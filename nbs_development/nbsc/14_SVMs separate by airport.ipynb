{
 "cells": [
  {
   "cell_type": "markdown",
   "metadata": {},
   "source": [
    "# SVMs"
   ]
  },
  {
   "cell_type": "code",
   "execution_count": 1,
   "metadata": {
    "collapsed": true
   },
   "outputs": [],
   "source": [
    "# Imports\n",
    "%config InlineBackend.figure_format = 'retina'\n",
    "%matplotlib inline\n",
    "\n",
    "import numpy as np\n",
    "import scipy as sp\n",
    "import matplotlib.pyplot as plt\n",
    "import pandas as pd\n",
    "\n",
    "import seaborn as sns\n",
    "sns.set_style('white')\n",
    "\n",
    "from sklearn.linear_model import LogisticRegression\n",
    "from sklearn.metrics import roc_curve, roc_auc_score, confusion_matrix"
   ]
  },
  {
   "cell_type": "code",
   "execution_count": 2,
   "metadata": {
    "collapsed": false
   },
   "outputs": [],
   "source": [
    "# Import custom code\n",
    "from flightdelay.fld import io as flio"
   ]
  },
  {
   "cell_type": "markdown",
   "metadata": {},
   "source": [
    "# Load data"
   ]
  },
  {
   "cell_type": "code",
   "execution_count": 3,
   "metadata": {
    "collapsed": false
   },
   "outputs": [],
   "source": [
    "airlines_df, airports_df, flights_df = flio.load_data()"
   ]
  },
  {
   "cell_type": "code",
   "execution_count": 4,
   "metadata": {
    "collapsed": true
   },
   "outputs": [],
   "source": [
    "# Filter data to keys of interest\n",
    "keys = ['MONTH', 'DAY_OF_WEEK', 'AIRLINE', 'ORIGIN_AIRPORT','SCHEDULED_DEPARTURE',\n",
    "       'DEPARTURE_DELAY', 'SCHEDULED_TIME','DISTANCE']\n",
    "flights_df = flights_df[keys]"
   ]
  },
  {
   "cell_type": "markdown",
   "metadata": {},
   "source": [
    "# Remove airports with less than a certain number of flights"
   ]
  },
  {
   "cell_type": "code",
   "execution_count": 5,
   "metadata": {
    "collapsed": false
   },
   "outputs": [],
   "source": [
    "all_airports, airport_inverse, airport_count = np.unique(flights_df['ORIGIN_AIRPORT'],return_counts=True,return_inverse=True)"
   ]
  },
  {
   "cell_type": "code",
   "execution_count": 6,
   "metadata": {
    "collapsed": false
   },
   "outputs": [],
   "source": [
    "# Determine number of flights for the origin airport\n",
    "Nflights_orig = np.zeros(len(airport_inverse))\n",
    "for i in range(len(all_airports)):\n",
    "    Nflights_orig[np.where(airport_inverse==i)] = airport_count[i]"
   ]
  },
  {
   "cell_type": "code",
   "execution_count": 7,
   "metadata": {
    "collapsed": true
   },
   "outputs": [],
   "source": [
    "flights_df = flights_df.loc[flights_df.index[Nflights_orig>=7300]]"
   ]
  },
  {
   "cell_type": "markdown",
   "metadata": {},
   "source": [
    "# Remove cancelled flights"
   ]
  },
  {
   "cell_type": "code",
   "execution_count": 8,
   "metadata": {
    "collapsed": false
   },
   "outputs": [
    {
     "data": {
      "text/html": [
       "<div>\n",
       "<table border=\"1\" class=\"dataframe\">\n",
       "  <thead>\n",
       "    <tr style=\"text-align: right;\">\n",
       "      <th></th>\n",
       "      <th>MONTH</th>\n",
       "      <th>DAY_OF_WEEK</th>\n",
       "      <th>AIRLINE</th>\n",
       "      <th>ORIGIN_AIRPORT</th>\n",
       "      <th>SCHEDULED_DEPARTURE</th>\n",
       "      <th>DEPARTURE_DELAY</th>\n",
       "      <th>SCHEDULED_TIME</th>\n",
       "      <th>DISTANCE</th>\n",
       "    </tr>\n",
       "  </thead>\n",
       "  <tbody>\n",
       "    <tr>\n",
       "      <th>0</th>\n",
       "      <td>1</td>\n",
       "      <td>4</td>\n",
       "      <td>AS</td>\n",
       "      <td>ANC</td>\n",
       "      <td>5</td>\n",
       "      <td>-11.0</td>\n",
       "      <td>205.0</td>\n",
       "      <td>1448</td>\n",
       "    </tr>\n",
       "    <tr>\n",
       "      <th>1</th>\n",
       "      <td>1</td>\n",
       "      <td>4</td>\n",
       "      <td>AA</td>\n",
       "      <td>LAX</td>\n",
       "      <td>10</td>\n",
       "      <td>-8.0</td>\n",
       "      <td>280.0</td>\n",
       "      <td>2330</td>\n",
       "    </tr>\n",
       "    <tr>\n",
       "      <th>2</th>\n",
       "      <td>1</td>\n",
       "      <td>4</td>\n",
       "      <td>US</td>\n",
       "      <td>SFO</td>\n",
       "      <td>20</td>\n",
       "      <td>-2.0</td>\n",
       "      <td>286.0</td>\n",
       "      <td>2296</td>\n",
       "    </tr>\n",
       "    <tr>\n",
       "      <th>3</th>\n",
       "      <td>1</td>\n",
       "      <td>4</td>\n",
       "      <td>AA</td>\n",
       "      <td>LAX</td>\n",
       "      <td>20</td>\n",
       "      <td>-5.0</td>\n",
       "      <td>285.0</td>\n",
       "      <td>2342</td>\n",
       "    </tr>\n",
       "    <tr>\n",
       "      <th>4</th>\n",
       "      <td>1</td>\n",
       "      <td>4</td>\n",
       "      <td>AS</td>\n",
       "      <td>SEA</td>\n",
       "      <td>25</td>\n",
       "      <td>-1.0</td>\n",
       "      <td>235.0</td>\n",
       "      <td>1448</td>\n",
       "    </tr>\n",
       "  </tbody>\n",
       "</table>\n",
       "</div>"
      ],
      "text/plain": [
       "   MONTH  DAY_OF_WEEK AIRLINE ORIGIN_AIRPORT  SCHEDULED_DEPARTURE  \\\n",
       "0      1            4      AS            ANC                    5   \n",
       "1      1            4      AA            LAX                   10   \n",
       "2      1            4      US            SFO                   20   \n",
       "3      1            4      AA            LAX                   20   \n",
       "4      1            4      AS            SEA                   25   \n",
       "\n",
       "   DEPARTURE_DELAY  SCHEDULED_TIME  DISTANCE  \n",
       "0            -11.0           205.0      1448  \n",
       "1             -8.0           280.0      2330  \n",
       "2             -2.0           286.0      2296  \n",
       "3             -5.0           285.0      2342  \n",
       "4             -1.0           235.0      1448  "
      ]
     },
     "execution_count": 8,
     "metadata": {},
     "output_type": "execute_result"
    }
   ],
   "source": [
    "flights_df = flights_df.dropna()\n",
    "flights_df.head()"
   ]
  },
  {
   "cell_type": "markdown",
   "metadata": {},
   "source": [
    "# Make train and val set"
   ]
  },
  {
   "cell_type": "code",
   "execution_count": 9,
   "metadata": {
    "collapsed": false
   },
   "outputs": [],
   "source": [
    "N_flights = 100000\n",
    "N_train = int(N_flights*.7)\n",
    "np.random.seed(0)\n",
    "flight_take_idx = np.random.permutation(flights_df.index)[:N_flights]\n",
    "df_trainval = flights_df.loc[flight_take_idx]"
   ]
  },
  {
   "cell_type": "code",
   "execution_count": 10,
   "metadata": {
    "collapsed": false
   },
   "outputs": [
    {
     "data": {
      "text/html": [
       "<div>\n",
       "<table border=\"1\" class=\"dataframe\">\n",
       "  <thead>\n",
       "    <tr style=\"text-align: right;\">\n",
       "      <th></th>\n",
       "      <th>MONTH</th>\n",
       "      <th>DAY_OF_WEEK</th>\n",
       "      <th>AIRLINE</th>\n",
       "      <th>ORIGIN_AIRPORT</th>\n",
       "      <th>SCHEDULED_DEPARTURE</th>\n",
       "      <th>DEPARTURE_DELAY</th>\n",
       "      <th>SCHEDULED_TIME</th>\n",
       "      <th>DISTANCE</th>\n",
       "    </tr>\n",
       "  </thead>\n",
       "  <tbody>\n",
       "    <tr>\n",
       "      <th>204474</th>\n",
       "      <td>1</td>\n",
       "      <td>3</td>\n",
       "      <td>UA</td>\n",
       "      <td>DEN</td>\n",
       "      <td>955</td>\n",
       "      <td>4.0</td>\n",
       "      <td>117.0</td>\n",
       "      <td>641</td>\n",
       "    </tr>\n",
       "    <tr>\n",
       "      <th>2975585</th>\n",
       "      <td>7</td>\n",
       "      <td>1</td>\n",
       "      <td>B6</td>\n",
       "      <td>BOS</td>\n",
       "      <td>1224</td>\n",
       "      <td>-2.0</td>\n",
       "      <td>94.0</td>\n",
       "      <td>399</td>\n",
       "    </tr>\n",
       "    <tr>\n",
       "      <th>1961438</th>\n",
       "      <td>5</td>\n",
       "      <td>2</td>\n",
       "      <td>DL</td>\n",
       "      <td>HOU</td>\n",
       "      <td>1500</td>\n",
       "      <td>-3.0</td>\n",
       "      <td>125.0</td>\n",
       "      <td>696</td>\n",
       "    </tr>\n",
       "    <tr>\n",
       "      <th>2287055</th>\n",
       "      <td>5</td>\n",
       "      <td>1</td>\n",
       "      <td>EV</td>\n",
       "      <td>ATL</td>\n",
       "      <td>2048</td>\n",
       "      <td>8.0</td>\n",
       "      <td>48.0</td>\n",
       "      <td>145</td>\n",
       "    </tr>\n",
       "    <tr>\n",
       "      <th>2422307</th>\n",
       "      <td>6</td>\n",
       "      <td>3</td>\n",
       "      <td>AA</td>\n",
       "      <td>MSY</td>\n",
       "      <td>801</td>\n",
       "      <td>-6.0</td>\n",
       "      <td>104.0</td>\n",
       "      <td>447</td>\n",
       "    </tr>\n",
       "    <tr>\n",
       "      <th>1918160</th>\n",
       "      <td>5</td>\n",
       "      <td>6</td>\n",
       "      <td>DL</td>\n",
       "      <td>ATL</td>\n",
       "      <td>2035</td>\n",
       "      <td>-1.0</td>\n",
       "      <td>81.0</td>\n",
       "      <td>366</td>\n",
       "    </tr>\n",
       "    <tr>\n",
       "      <th>2956014</th>\n",
       "      <td>7</td>\n",
       "      <td>7</td>\n",
       "      <td>EV</td>\n",
       "      <td>CLE</td>\n",
       "      <td>1015</td>\n",
       "      <td>4.0</td>\n",
       "      <td>104.0</td>\n",
       "      <td>563</td>\n",
       "    </tr>\n",
       "    <tr>\n",
       "      <th>2747374</th>\n",
       "      <td>6</td>\n",
       "      <td>1</td>\n",
       "      <td>US</td>\n",
       "      <td>CLT</td>\n",
       "      <td>1430</td>\n",
       "      <td>-1.0</td>\n",
       "      <td>54.0</td>\n",
       "      <td>130</td>\n",
       "    </tr>\n",
       "    <tr>\n",
       "      <th>5710770</th>\n",
       "      <td>12</td>\n",
       "      <td>4</td>\n",
       "      <td>WN</td>\n",
       "      <td>MDW</td>\n",
       "      <td>1810</td>\n",
       "      <td>-1.0</td>\n",
       "      <td>70.0</td>\n",
       "      <td>307</td>\n",
       "    </tr>\n",
       "    <tr>\n",
       "      <th>3854922</th>\n",
       "      <td>8</td>\n",
       "      <td>4</td>\n",
       "      <td>UA</td>\n",
       "      <td>LAS</td>\n",
       "      <td>1843</td>\n",
       "      <td>-9.0</td>\n",
       "      <td>98.0</td>\n",
       "      <td>414</td>\n",
       "    </tr>\n",
       "    <tr>\n",
       "      <th>5630047</th>\n",
       "      <td>12</td>\n",
       "      <td>6</td>\n",
       "      <td>AA</td>\n",
       "      <td>CLT</td>\n",
       "      <td>1630</td>\n",
       "      <td>-3.0</td>\n",
       "      <td>101.0</td>\n",
       "      <td>427</td>\n",
       "    </tr>\n",
       "    <tr>\n",
       "      <th>2935048</th>\n",
       "      <td>7</td>\n",
       "      <td>5</td>\n",
       "      <td>AA</td>\n",
       "      <td>DFW</td>\n",
       "      <td>1700</td>\n",
       "      <td>-2.0</td>\n",
       "      <td>230.0</td>\n",
       "      <td>1464</td>\n",
       "    </tr>\n",
       "    <tr>\n",
       "      <th>760132</th>\n",
       "      <td>2</td>\n",
       "      <td>4</td>\n",
       "      <td>OO</td>\n",
       "      <td>DEN</td>\n",
       "      <td>2211</td>\n",
       "      <td>-7.0</td>\n",
       "      <td>144.0</td>\n",
       "      <td>776</td>\n",
       "    </tr>\n",
       "    <tr>\n",
       "      <th>619006</th>\n",
       "      <td>2</td>\n",
       "      <td>2</td>\n",
       "      <td>EV</td>\n",
       "      <td>LGA</td>\n",
       "      <td>2010</td>\n",
       "      <td>-4.0</td>\n",
       "      <td>168.0</td>\n",
       "      <td>866</td>\n",
       "    </tr>\n",
       "    <tr>\n",
       "      <th>3400689</th>\n",
       "      <td>7</td>\n",
       "      <td>5</td>\n",
       "      <td>WN</td>\n",
       "      <td>CMH</td>\n",
       "      <td>1240</td>\n",
       "      <td>-7.0</td>\n",
       "      <td>75.0</td>\n",
       "      <td>323</td>\n",
       "    </tr>\n",
       "    <tr>\n",
       "      <th>3620001</th>\n",
       "      <td>8</td>\n",
       "      <td>4</td>\n",
       "      <td>B6</td>\n",
       "      <td>SEA</td>\n",
       "      <td>1251</td>\n",
       "      <td>-6.0</td>\n",
       "      <td>213.0</td>\n",
       "      <td>1448</td>\n",
       "    </tr>\n",
       "    <tr>\n",
       "      <th>3784478</th>\n",
       "      <td>8</td>\n",
       "      <td>7</td>\n",
       "      <td>F9</td>\n",
       "      <td>ATL</td>\n",
       "      <td>1510</td>\n",
       "      <td>-5.0</td>\n",
       "      <td>105.0</td>\n",
       "      <td>534</td>\n",
       "    </tr>\n",
       "    <tr>\n",
       "      <th>2000550</th>\n",
       "      <td>5</td>\n",
       "      <td>4</td>\n",
       "      <td>AS</td>\n",
       "      <td>SFO</td>\n",
       "      <td>2050</td>\n",
       "      <td>-4.0</td>\n",
       "      <td>109.0</td>\n",
       "      <td>599</td>\n",
       "    </tr>\n",
       "    <tr>\n",
       "      <th>2472452</th>\n",
       "      <td>6</td>\n",
       "      <td>6</td>\n",
       "      <td>EV</td>\n",
       "      <td>EWR</td>\n",
       "      <td>715</td>\n",
       "      <td>-7.0</td>\n",
       "      <td>124.0</td>\n",
       "      <td>628</td>\n",
       "    </tr>\n",
       "    <tr>\n",
       "      <th>688033</th>\n",
       "      <td>2</td>\n",
       "      <td>7</td>\n",
       "      <td>B6</td>\n",
       "      <td>DCA</td>\n",
       "      <td>1335</td>\n",
       "      <td>-13.0</td>\n",
       "      <td>162.0</td>\n",
       "      <td>899</td>\n",
       "    </tr>\n",
       "  </tbody>\n",
       "</table>\n",
       "</div>"
      ],
      "text/plain": [
       "         MONTH  DAY_OF_WEEK AIRLINE ORIGIN_AIRPORT  SCHEDULED_DEPARTURE  \\\n",
       "204474       1            3      UA            DEN                  955   \n",
       "2975585      7            1      B6            BOS                 1224   \n",
       "1961438      5            2      DL            HOU                 1500   \n",
       "2287055      5            1      EV            ATL                 2048   \n",
       "2422307      6            3      AA            MSY                  801   \n",
       "1918160      5            6      DL            ATL                 2035   \n",
       "2956014      7            7      EV            CLE                 1015   \n",
       "2747374      6            1      US            CLT                 1430   \n",
       "5710770     12            4      WN            MDW                 1810   \n",
       "3854922      8            4      UA            LAS                 1843   \n",
       "5630047     12            6      AA            CLT                 1630   \n",
       "2935048      7            5      AA            DFW                 1700   \n",
       "760132       2            4      OO            DEN                 2211   \n",
       "619006       2            2      EV            LGA                 2010   \n",
       "3400689      7            5      WN            CMH                 1240   \n",
       "3620001      8            4      B6            SEA                 1251   \n",
       "3784478      8            7      F9            ATL                 1510   \n",
       "2000550      5            4      AS            SFO                 2050   \n",
       "2472452      6            6      EV            EWR                  715   \n",
       "688033       2            7      B6            DCA                 1335   \n",
       "\n",
       "         DEPARTURE_DELAY  SCHEDULED_TIME  DISTANCE  \n",
       "204474               4.0           117.0       641  \n",
       "2975585             -2.0            94.0       399  \n",
       "1961438             -3.0           125.0       696  \n",
       "2287055              8.0            48.0       145  \n",
       "2422307             -6.0           104.0       447  \n",
       "1918160             -1.0            81.0       366  \n",
       "2956014              4.0           104.0       563  \n",
       "2747374             -1.0            54.0       130  \n",
       "5710770             -1.0            70.0       307  \n",
       "3854922             -9.0            98.0       414  \n",
       "5630047             -3.0           101.0       427  \n",
       "2935048             -2.0           230.0      1464  \n",
       "760132              -7.0           144.0       776  \n",
       "619006              -4.0           168.0       866  \n",
       "3400689             -7.0            75.0       323  \n",
       "3620001             -6.0           213.0      1448  \n",
       "3784478             -5.0           105.0       534  \n",
       "2000550             -4.0           109.0       599  \n",
       "2472452             -7.0           124.0       628  \n",
       "688033             -13.0           162.0       899  "
      ]
     },
     "execution_count": 10,
     "metadata": {},
     "output_type": "execute_result"
    }
   ],
   "source": [
    "df_trainval.head(20)"
   ]
  },
  {
   "cell_type": "markdown",
   "metadata": {},
   "source": [
    "# Randomly take subset of data"
   ]
  },
  {
   "cell_type": "markdown",
   "metadata": {},
   "source": [
    "# Compute features\n",
    "* one-hot day of week\n",
    "* one-hot month\n",
    "* one-hot airline\n",
    "* one-hot airport\n",
    "* one-hot departure hour"
   ]
  },
  {
   "cell_type": "markdown",
   "metadata": {},
   "source": [
    "### 0. Original feat"
   ]
  },
  {
   "cell_type": "code",
   "execution_count": 11,
   "metadata": {
    "collapsed": false
   },
   "outputs": [],
   "source": [
    "original_feat = {'f_distance':df_trainval['DISTANCE'].values}"
   ]
  },
  {
   "cell_type": "code",
   "execution_count": 12,
   "metadata": {
    "collapsed": true
   },
   "outputs": [],
   "source": [
    "y_delay = df_trainval['DEPARTURE_DELAY'].values\n",
    "y_delay01 = y_delay > 15"
   ]
  },
  {
   "cell_type": "markdown",
   "metadata": {},
   "source": [
    "### 1. Day of week"
   ]
  },
  {
   "cell_type": "code",
   "execution_count": 13,
   "metadata": {
    "collapsed": true
   },
   "outputs": [],
   "source": [
    "def make_onehot_feat_dict(df, feat_key, feat_name):\n",
    "    # Create features for each day of the week\n",
    "    feat_vals = df[feat_key].values\n",
    "    all_vals = np.unique(feat_vals)\n",
    "    N_vals = len(all_vals)\n",
    "    N_feat = N_vals - 1\n",
    "\n",
    "    # Create keys\n",
    "    keys = [0]*N_feat\n",
    "    for i in range(N_feat):\n",
    "        keys[i] = 'f_'+feat_name+'_'+ str(all_vals[i])\n",
    "\n",
    "    # Create value for each training example in dict\n",
    "    feat_dict = {}\n",
    "    for i, k in enumerate(keys):\n",
    "        this_day = all_vals[i]\n",
    "        feat_dict[k] = feat_vals == this_day\n",
    "    return feat_dict"
   ]
  },
  {
   "cell_type": "code",
   "execution_count": 14,
   "metadata": {
    "collapsed": false
   },
   "outputs": [],
   "source": [
    "daysfeat_dict = make_onehot_feat_dict(df_trainval, 'DAY_OF_WEEK', 'day')"
   ]
  },
  {
   "cell_type": "markdown",
   "metadata": {},
   "source": [
    "### 2. Month"
   ]
  },
  {
   "cell_type": "code",
   "execution_count": 15,
   "metadata": {
    "collapsed": true
   },
   "outputs": [],
   "source": [
    "monthsfeat_dict = make_onehot_feat_dict(df_trainval, 'MONTH', 'month') "
   ]
  },
  {
   "cell_type": "markdown",
   "metadata": {},
   "source": [
    "### 3. Departing airport"
   ]
  },
  {
   "cell_type": "code",
   "execution_count": 16,
   "metadata": {
    "collapsed": false
   },
   "outputs": [],
   "source": [
    "dapfeat_dict = make_onehot_feat_dict(df_trainval, 'ORIGIN_AIRPORT', 'dap') "
   ]
  },
  {
   "cell_type": "markdown",
   "metadata": {},
   "source": [
    "### 4. Airline"
   ]
  },
  {
   "cell_type": "code",
   "execution_count": 17,
   "metadata": {
    "collapsed": true
   },
   "outputs": [],
   "source": [
    "alfeat_dict = make_onehot_feat_dict(df_trainval, 'AIRLINE', 'al') "
   ]
  },
  {
   "cell_type": "markdown",
   "metadata": {},
   "source": [
    "### 5. Departure hour"
   ]
  },
  {
   "cell_type": "code",
   "execution_count": 18,
   "metadata": {
    "collapsed": false
   },
   "outputs": [],
   "source": [
    "# Add departure hour as a feature\n",
    "df_trainval['HOUR_DEPARTURE'] = np.floor(df_trainval['SCHEDULED_DEPARTURE'].values/100).astype(int)\n",
    "hrfeat_dict = make_onehot_feat_dict(df_trainval, 'HOUR_DEPARTURE', 'hr')"
   ]
  },
  {
   "cell_type": "markdown",
   "metadata": {},
   "source": [
    "# Save new feature matrix"
   ]
  },
  {
   "cell_type": "code",
   "execution_count": 19,
   "metadata": {
    "collapsed": false
   },
   "outputs": [],
   "source": [
    "all_dicts = [original_feat, daysfeat_dict, monthsfeat_dict, dapfeat_dict, alfeat_dict, hrfeat_dict]\n",
    "feat_dict = all_dicts[0].copy()\n",
    "for d in all_dicts[1:]:\n",
    "    feat_dict.update(d)"
   ]
  },
  {
   "cell_type": "code",
   "execution_count": 20,
   "metadata": {
    "collapsed": false
   },
   "outputs": [
    {
     "data": {
      "text/html": [
       "<div>\n",
       "<table border=\"1\" class=\"dataframe\">\n",
       "  <thead>\n",
       "    <tr style=\"text-align: right;\">\n",
       "      <th></th>\n",
       "      <th>f_al_AA</th>\n",
       "      <th>f_al_AS</th>\n",
       "      <th>f_al_B6</th>\n",
       "      <th>f_al_DL</th>\n",
       "      <th>f_al_EV</th>\n",
       "      <th>f_al_F9</th>\n",
       "      <th>f_al_HA</th>\n",
       "      <th>f_al_MQ</th>\n",
       "      <th>f_al_NK</th>\n",
       "      <th>f_al_OO</th>\n",
       "      <th>...</th>\n",
       "      <th>f_month_10</th>\n",
       "      <th>f_month_11</th>\n",
       "      <th>f_month_2</th>\n",
       "      <th>f_month_3</th>\n",
       "      <th>f_month_4</th>\n",
       "      <th>f_month_5</th>\n",
       "      <th>f_month_6</th>\n",
       "      <th>f_month_7</th>\n",
       "      <th>f_month_8</th>\n",
       "      <th>f_month_9</th>\n",
       "    </tr>\n",
       "  </thead>\n",
       "  <tbody>\n",
       "    <tr>\n",
       "      <th>0</th>\n",
       "      <td>False</td>\n",
       "      <td>False</td>\n",
       "      <td>False</td>\n",
       "      <td>False</td>\n",
       "      <td>False</td>\n",
       "      <td>False</td>\n",
       "      <td>False</td>\n",
       "      <td>False</td>\n",
       "      <td>False</td>\n",
       "      <td>False</td>\n",
       "      <td>...</td>\n",
       "      <td>False</td>\n",
       "      <td>False</td>\n",
       "      <td>False</td>\n",
       "      <td>False</td>\n",
       "      <td>False</td>\n",
       "      <td>False</td>\n",
       "      <td>False</td>\n",
       "      <td>False</td>\n",
       "      <td>False</td>\n",
       "      <td>False</td>\n",
       "    </tr>\n",
       "    <tr>\n",
       "      <th>1</th>\n",
       "      <td>False</td>\n",
       "      <td>False</td>\n",
       "      <td>True</td>\n",
       "      <td>False</td>\n",
       "      <td>False</td>\n",
       "      <td>False</td>\n",
       "      <td>False</td>\n",
       "      <td>False</td>\n",
       "      <td>False</td>\n",
       "      <td>False</td>\n",
       "      <td>...</td>\n",
       "      <td>False</td>\n",
       "      <td>False</td>\n",
       "      <td>False</td>\n",
       "      <td>False</td>\n",
       "      <td>False</td>\n",
       "      <td>False</td>\n",
       "      <td>False</td>\n",
       "      <td>True</td>\n",
       "      <td>False</td>\n",
       "      <td>False</td>\n",
       "    </tr>\n",
       "    <tr>\n",
       "      <th>2</th>\n",
       "      <td>False</td>\n",
       "      <td>False</td>\n",
       "      <td>False</td>\n",
       "      <td>True</td>\n",
       "      <td>False</td>\n",
       "      <td>False</td>\n",
       "      <td>False</td>\n",
       "      <td>False</td>\n",
       "      <td>False</td>\n",
       "      <td>False</td>\n",
       "      <td>...</td>\n",
       "      <td>False</td>\n",
       "      <td>False</td>\n",
       "      <td>False</td>\n",
       "      <td>False</td>\n",
       "      <td>False</td>\n",
       "      <td>True</td>\n",
       "      <td>False</td>\n",
       "      <td>False</td>\n",
       "      <td>False</td>\n",
       "      <td>False</td>\n",
       "    </tr>\n",
       "    <tr>\n",
       "      <th>3</th>\n",
       "      <td>False</td>\n",
       "      <td>False</td>\n",
       "      <td>False</td>\n",
       "      <td>False</td>\n",
       "      <td>True</td>\n",
       "      <td>False</td>\n",
       "      <td>False</td>\n",
       "      <td>False</td>\n",
       "      <td>False</td>\n",
       "      <td>False</td>\n",
       "      <td>...</td>\n",
       "      <td>False</td>\n",
       "      <td>False</td>\n",
       "      <td>False</td>\n",
       "      <td>False</td>\n",
       "      <td>False</td>\n",
       "      <td>True</td>\n",
       "      <td>False</td>\n",
       "      <td>False</td>\n",
       "      <td>False</td>\n",
       "      <td>False</td>\n",
       "    </tr>\n",
       "    <tr>\n",
       "      <th>4</th>\n",
       "      <td>True</td>\n",
       "      <td>False</td>\n",
       "      <td>False</td>\n",
       "      <td>False</td>\n",
       "      <td>False</td>\n",
       "      <td>False</td>\n",
       "      <td>False</td>\n",
       "      <td>False</td>\n",
       "      <td>False</td>\n",
       "      <td>False</td>\n",
       "      <td>...</td>\n",
       "      <td>False</td>\n",
       "      <td>False</td>\n",
       "      <td>False</td>\n",
       "      <td>False</td>\n",
       "      <td>False</td>\n",
       "      <td>False</td>\n",
       "      <td>True</td>\n",
       "      <td>False</td>\n",
       "      <td>False</td>\n",
       "      <td>False</td>\n",
       "    </tr>\n",
       "  </tbody>\n",
       "</table>\n",
       "<p>5 rows × 151 columns</p>\n",
       "</div>"
      ],
      "text/plain": [
       "  f_al_AA f_al_AS f_al_B6 f_al_DL f_al_EV f_al_F9 f_al_HA f_al_MQ f_al_NK  \\\n",
       "0   False   False   False   False   False   False   False   False   False   \n",
       "1   False   False    True   False   False   False   False   False   False   \n",
       "2   False   False   False    True   False   False   False   False   False   \n",
       "3   False   False   False   False    True   False   False   False   False   \n",
       "4    True   False   False   False   False   False   False   False   False   \n",
       "\n",
       "  f_al_OO    ...    f_month_10 f_month_11 f_month_2 f_month_3 f_month_4  \\\n",
       "0   False    ...         False      False     False     False     False   \n",
       "1   False    ...         False      False     False     False     False   \n",
       "2   False    ...         False      False     False     False     False   \n",
       "3   False    ...         False      False     False     False     False   \n",
       "4   False    ...         False      False     False     False     False   \n",
       "\n",
       "  f_month_5 f_month_6 f_month_7 f_month_8 f_month_9  \n",
       "0     False     False     False     False     False  \n",
       "1     False     False      True     False     False  \n",
       "2      True     False     False     False     False  \n",
       "3      True     False     False     False     False  \n",
       "4     False      True     False     False     False  \n",
       "\n",
       "[5 rows x 151 columns]"
      ]
     },
     "execution_count": 20,
     "metadata": {},
     "output_type": "execute_result"
    }
   ],
   "source": [
    "df_feat = pd.DataFrame.from_dict(feat_dict)\n",
    "df_feat.head()"
   ]
  },
  {
   "cell_type": "markdown",
   "metadata": {},
   "source": [
    "# Split data by airport"
   ]
  },
  {
   "cell_type": "code",
   "execution_count": 21,
   "metadata": {
    "collapsed": true
   },
   "outputs": [],
   "source": [
    "# zscore all features\n",
    "from scipy.stats import zscore\n",
    "df_feat_zscore = df_feat.apply(zscore)"
   ]
  },
  {
   "cell_type": "code",
   "execution_count": 22,
   "metadata": {
    "collapsed": false
   },
   "outputs": [],
   "source": [
    "airport_keys = np.array(df_feat.keys()[df_feat.columns.str.startswith('f_dap')])\n",
    "feat_keys = np.array(df_feat.keys()[~df_feat.columns.str.startswith('f_dap')])\n",
    "ap_keys = [s[-3:] for s in airport_keys]\n",
    "\n",
    "N_airports = len(airport_keys)\n",
    "airport_dfs = {}\n",
    "airport_y = {}\n",
    "for k in airport_keys:\n",
    "    airport_dfs[k[-3:]] = df_feat_zscore[feat_keys][df_feat[k].values]\n",
    "    airport_y[k[-3:]] = y_delay01[df_feat[k].values]\n",
    "    \n",
    "Nflights_by_airport = {}\n",
    "for k in ap_keys:\n",
    "    Nflights_by_airport[k] = len(airport_y[k])"
   ]
  },
  {
   "cell_type": "markdown",
   "metadata": {},
   "source": [
    "# Train model for each airport"
   ]
  },
  {
   "cell_type": "code",
   "execution_count": 23,
   "metadata": {
    "collapsed": true
   },
   "outputs": [],
   "source": [
    "# Make train and validation sets\n",
    "all_X_train = {}\n",
    "all_X_val = {}\n",
    "all_y_train = {}\n",
    "all_y_val = {}\n",
    "for i, ap in enumerate(ap_keys):\n",
    "    # Compute number of training examples\n",
    "    N_train = int(len(airport_dfs[ap])*.7)\n",
    "    \n",
    "    # Declare DFs\n",
    "    all_X_train[ap] = airport_dfs[ap].loc[airport_dfs[ap].index.values[:N_train]].values\n",
    "    all_X_val[ap] = airport_dfs[ap].loc[airport_dfs[ap].index.values[N_train:]].values\n",
    "\n",
    "    # Determine labels\n",
    "    all_y_train[ap] = airport_y[ap][:N_train]\n",
    "    all_y_val[ap] = airport_y[ap][N_train:]"
   ]
  },
  {
   "cell_type": "code",
   "execution_count": 24,
   "metadata": {
    "collapsed": true
   },
   "outputs": [],
   "source": [
    "from sklearn.svm import SVC"
   ]
  },
  {
   "cell_type": "code",
   "execution_count": 25,
   "metadata": {
    "collapsed": false
   },
   "outputs": [
    {
     "data": {
      "text/plain": [
       "(5049, 54)"
      ]
     },
     "execution_count": 25,
     "metadata": {},
     "output_type": "execute_result"
    }
   ],
   "source": [
    "np.shape(all_X_train['ATL'])"
   ]
  },
  {
   "cell_type": "code",
   "execution_count": 26,
   "metadata": {
    "collapsed": false,
    "scrolled": true
   },
   "outputs": [
    {
     "name": "stdout",
     "output_type": "stream",
     "text": [
      "ABQ\n",
      "ALB\n",
      "ANC\n",
      "ATL\n",
      "AUS\n",
      "BDL\n",
      "BHM\n",
      "BNA\n",
      "BOI\n",
      "BOS\n",
      "BTR\n",
      "BUF\n",
      "BUR\n",
      "BWI\n",
      "CHS\n",
      "CID\n",
      "CLE\n",
      "CLT\n",
      "CMH\n",
      "COS\n",
      "CVG\n",
      "DAL\n",
      "DAY\n",
      "DCA\n",
      "DEN\n",
      "DFW\n",
      "DSM\n",
      "DTW\n",
      "ELP\n",
      "EWR\n",
      "FAT\n",
      "FLL\n",
      "GEG\n",
      "GRR\n",
      "GSO\n",
      "HNL\n",
      "HOU\n",
      "HPN\n",
      "IAD\n",
      "IAH\n",
      "ICT\n",
      "IND\n",
      "JAN\n",
      "JAX\n",
      "JFK\n",
      "KOA\n",
      "LAS\n",
      "LAX\n",
      "LGA\n",
      "LGB\n",
      "LIH\n",
      "LIT\n",
      "MAF\n",
      "MCI\n",
      "MCO\n",
      "MDW\n",
      "MEM\n",
      "MIA\n",
      "MKE\n",
      "MSN\n",
      "MSP\n",
      "MSY\n",
      "OAK\n",
      "OGG\n",
      "OKC\n",
      "OMA\n",
      "ONT\n",
      "ORD\n",
      "ORF\n",
      "PBI\n",
      "PDX\n",
      "PHL\n",
      "PHX\n",
      "PIT\n",
      "PSP\n",
      "PVD\n",
      "RDU\n",
      "RIC\n",
      "RNO\n",
      "ROC\n",
      "RSW\n",
      "SAN\n",
      "SAT\n",
      "SAV\n",
      "SDF\n",
      "SEA\n",
      "SFO\n",
      "SJC\n",
      "SJU\n",
      "SLC\n",
      "SMF\n",
      "SNA\n",
      "STL\n",
      "TPA\n",
      "TUL\n",
      "TUS\n",
      "TYS\n"
     ]
    }
   ],
   "source": [
    "all_models = {}\n",
    "C = 1\n",
    "\n",
    "for ap in ap_keys:\n",
    "    print(ap)\n",
    "    all_models[ap] = SVC(C=C,kernel='linear')\n",
    "    all_models[ap].fit(all_X_train[ap], all_y_train[ap])"
   ]
  },
  {
   "cell_type": "markdown",
   "metadata": {},
   "source": [
    "# Evaluate model"
   ]
  },
  {
   "cell_type": "code",
   "execution_count": 31,
   "metadata": {
    "collapsed": false
   },
   "outputs": [],
   "source": [
    "# Prepare true and predicted scores\n",
    "ally_true = np.zeros(0)\n",
    "ally_pred = np.zeros(0)\n",
    "for ap in all_models.keys():\n",
    "    ally_true = np.append(ally_true,all_y_train[ap])\n",
    "    ally_pred = np.append(ally_pred, all_models[ap].predict(all_X_train[ap]))\n",
    "    \n",
    "ally_trueV = np.zeros(0)\n",
    "ally_predV = np.zeros(0)\n",
    "for ap in all_models.keys():\n",
    "    ally_trueV = np.append(ally_trueV,all_y_val[ap])\n",
    "    ally_predV = np.append(ally_predV, all_models[ap].predict(all_X_val[ap]))"
   ]
  },
  {
   "cell_type": "code",
   "execution_count": 32,
   "metadata": {
    "collapsed": false
   },
   "outputs": [
    {
     "name": "stdout",
     "output_type": "stream",
     "text": [
      "accuracy:  0.827105881006\n"
     ]
    }
   ],
   "source": [
    "print('accuracy: ',1-sum(np.abs(ally_pred-ally_true))/len(ally_pred))"
   ]
  },
  {
   "cell_type": "code",
   "execution_count": 33,
   "metadata": {
    "collapsed": false
   },
   "outputs": [
    {
     "name": "stdout",
     "output_type": "stream",
     "text": [
      "Train True positive rate: 0.0430598989656\n",
      "Train True negative rate: 0.997507885886\n",
      "Train Accuracy:  0.827105881006\n",
      "[[ 57238.    143.]\n",
      " [ 11934.    537.]]\n"
     ]
    }
   ],
   "source": [
    "ap_modelres = {}\n",
    "ap_modelres['confuse'] = {}\n",
    "ap_modelres['accuracy'] = {}\n",
    "all_confuse = np.zeros((2,2))\n",
    "for ap in all_models.keys():\n",
    "    ap_modelres['confuse'][ap] = confusion_matrix(all_y_train[ap], all_models[ap].predict(all_X_train[ap]))\n",
    "    ap_modelres['accuracy'][ap] = all_models[ap].score(all_X_train[ap], all_y_train[ap])\n",
    "    all_confuse += np.array(ap_modelres['confuse'][ap])\n",
    "    \n",
    "print('Train True positive rate:', all_confuse[1,1]/sum(all_confuse[1]))\n",
    "print('Train True negative rate:', all_confuse[0,0]/sum(all_confuse[0]))\n",
    "print('Train Accuracy: ', (all_confuse[0,0]+all_confuse[1,1])/np.sum(all_confuse))\n",
    "print(all_confuse)"
   ]
  },
  {
   "cell_type": "code",
   "execution_count": 34,
   "metadata": {
    "collapsed": false
   },
   "outputs": [
    {
     "name": "stdout",
     "output_type": "stream",
     "text": [
      "Val True positive rate: 0.0168987929434\n",
      "Val True negative rate: 0.988378235605\n",
      "Val Accuracy:  0.813962792559\n",
      "[[ 24323.    286.]\n",
      " [  5294.     91.]]\n"
     ]
    }
   ],
   "source": [
    "ap_modelres = {}\n",
    "ap_modelres['confuse'] = {}\n",
    "ap_modelres['accuracy'] = {}\n",
    "all_confuse = np.zeros((2,2))\n",
    "for ap in all_models.keys():\n",
    "    ap_modelres['confuse'][ap] = confusion_matrix(all_y_val[ap], all_models[ap].predict(all_X_val[ap]))\n",
    "    ap_modelres['accuracy'][ap] = all_models[ap].score(all_X_val[ap], all_y_val[ap])\n",
    "    all_confuse += np.array(ap_modelres['confuse'][ap])\n",
    "    \n",
    "print('Val True positive rate:', all_confuse[1,1]/sum(all_confuse[1]))\n",
    "print('Val True negative rate:', all_confuse[0,0]/sum(all_confuse[0]))\n",
    "print('Val Accuracy: ', (all_confuse[0,0]+all_confuse[1,1])/np.sum(all_confuse))\n",
    "print(all_confuse)"
   ]
  },
  {
   "cell_type": "code",
   "execution_count": null,
   "metadata": {
    "collapsed": false
   },
   "outputs": [],
   "source": [
    "fpr, tpr, th = roc_curve(ally_true, ally_predp)\n",
    "print(roc_auc_score(ally_true, ally_predp))\n",
    "\n",
    "plt.figure(figsize=(6,6))\n",
    "plt.plot(fpr,tpr,'r')\n",
    "plt.plot([0,1],[0,1],'k--')\n",
    "plt.xlim((0,1))\n",
    "plt.ylim((0,1))\n",
    "\n",
    "fpr, tpr, th = roc_curve(ally_trueV, ally_predpV)\n",
    "print(roc_auc_score(ally_trueV, ally_predpV))\n",
    "\n",
    "plt.figure(figsize=(6,6))\n",
    "plt.plot(fpr,tpr,'r')\n",
    "plt.plot([0,1],[0,1],'k--')\n",
    "plt.xlim((0,1))\n",
    "plt.ylim((0,1))"
   ]
  },
  {
   "cell_type": "code",
   "execution_count": 36,
   "metadata": {
    "collapsed": false
   },
   "outputs": [
    {
     "data": {
      "text/plain": [
       "array([[356,   0],\n",
       "       [ 64,   0]])"
      ]
     },
     "execution_count": 36,
     "metadata": {},
     "output_type": "execute_result"
    }
   ],
   "source": [
    "ap_modelres['confuse']['SAN']"
   ]
  },
  {
   "cell_type": "code",
   "execution_count": null,
   "metadata": {
    "collapsed": true
   },
   "outputs": [],
   "source": []
  }
 ],
 "metadata": {
  "anaconda-cloud": {},
  "kernelspec": {
   "display_name": "Python 3",
   "language": "python",
   "name": "python3"
  },
  "language_info": {
   "codemirror_mode": {
    "name": "ipython",
    "version": 3
   },
   "file_extension": ".py",
   "mimetype": "text/x-python",
   "name": "python",
   "nbconvert_exporter": "python",
   "pygments_lexer": "ipython3",
   "version": "3.6.0"
  }
 },
 "nbformat": 4,
 "nbformat_minor": 1
}
