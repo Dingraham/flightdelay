{
 "cells": [
  {
   "cell_type": "markdown",
   "metadata": {},
   "source": [
    "# Explore flight delay data"
   ]
  },
  {
   "cell_type": "code",
   "execution_count": 1,
   "metadata": {
    "collapsed": true
   },
   "outputs": [],
   "source": [
    "%config InlineBackend.figure_format = 'retina'\n",
    "%matplotlib inline\n",
    "\n",
    "import numpy as np\n",
    "import scipy as sp\n",
    "import matplotlib.pyplot as plt\n",
    "import pandas as pd\n",
    "\n",
    "import seaborn as sns\n",
    "sns.set_style('white')"
   ]
  },
  {
   "cell_type": "markdown",
   "metadata": {},
   "source": [
    "# Load data"
   ]
  },
  {
   "cell_type": "code",
   "execution_count": 2,
   "metadata": {
    "collapsed": true
   },
   "outputs": [],
   "source": [
    "flights_path1 = '/gh/data/flightdelay/flights.csv'\n",
    "flights_path2 = '/gh/data/flightdelayold/flights.csv'\n",
    "flights_path3 = '/gh/data/flightdelayold/flights2.csv'"
   ]
  },
  {
   "cell_type": "code",
   "execution_count": 3,
   "metadata": {
    "collapsed": false
   },
   "outputs": [
    {
     "name": "stderr",
     "output_type": "stream",
     "text": [
      "/Users/scott/anaconda/lib/python3.6/site-packages/IPython/core/interactiveshell.py:2717: DtypeWarning: Columns (7,8) have mixed types. Specify dtype option on import or set low_memory=False.\n",
      "  interactivity=interactivity, compiler=compiler, result=result)\n"
     ]
    }
   ],
   "source": [
    "df_fl1 = pd.io.parsers.read_csv(flights_path1)\n",
    "df_fl2 = pd.io.parsers.read_csv(flights_path2)\n",
    "df_fl3 = pd.io.parsers.read_csv(flights_path3)"
   ]
  },
  {
   "cell_type": "code",
   "execution_count": 7,
   "metadata": {
    "collapsed": true
   },
   "outputs": [],
   "source": [
    "df_SAN1 = df_fl1[df_fl1['ORIGIN_AIRPORT']=='SAN']\n",
    "df_SAN2a = df_fl1[df_fl2['ORIGIN_AIRPORT']=='SAN']\n",
    "df_SAN2b = df_fl1[df_fl2['ORIGIN_AIRPORT']=='14679']\n",
    "df_SAN2c = df_fl1[df_fl2['ORIGIN_AIRPORT']==14679]\n",
    "df_SAN2 = pd.concat([df_SAN2a,df_SAN2b,df_SAN2c])\n",
    "df_SAN3 = df_fl1[df_fl3['ORIGIN_AIRPORT']=='SAN']"
   ]
  },
  {
   "cell_type": "markdown",
   "metadata": {},
   "source": [
    "# Consistent SAN delay across data?"
   ]
  },
  {
   "cell_type": "code",
   "execution_count": 8,
   "metadata": {
    "collapsed": false
   },
   "outputs": [
    {
     "name": "stdout",
     "output_type": "stream",
     "text": [
      "7.978262594208648\n",
      "7.978262594208648\n",
      "7.978262594208648\n"
     ]
    }
   ],
   "source": [
    "print(np.mean(df_SAN1['DEPARTURE_DELAY']))\n",
    "print(np.mean(df_SAN2['DEPARTURE_DELAY']))\n",
    "print(np.mean(df_SAN3['DEPARTURE_DELAY']))"
   ]
  },
  {
   "cell_type": "code",
   "execution_count": null,
   "metadata": {
    "collapsed": true
   },
   "outputs": [],
   "source": []
  }
 ],
 "metadata": {
  "kernelspec": {
   "display_name": "Python 3",
   "language": "python",
   "name": "python3"
  },
  "language_info": {
   "codemirror_mode": {
    "name": "ipython",
    "version": 3
   },
   "file_extension": ".py",
   "mimetype": "text/x-python",
   "name": "python",
   "nbconvert_exporter": "python",
   "pygments_lexer": "ipython3",
   "version": "3.6.0"
  }
 },
 "nbformat": 4,
 "nbformat_minor": 2
}
