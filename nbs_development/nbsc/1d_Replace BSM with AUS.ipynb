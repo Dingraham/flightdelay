{
 "cells": [
  {
   "cell_type": "markdown",
   "metadata": {},
   "source": [
    "# Explore flight delay data"
   ]
  },
  {
   "cell_type": "code",
   "execution_count": 1,
   "metadata": {
    "collapsed": true
   },
   "outputs": [],
   "source": [
    "%config InlineBackend.figure_format = 'retina'\n",
    "%matplotlib inline\n",
    "\n",
    "import numpy as np\n",
    "import scipy as sp\n",
    "import matplotlib.pyplot as plt\n",
    "import pandas as pd\n",
    "\n",
    "import seaborn as sns\n",
    "sns.set_style('white')"
   ]
  },
  {
   "cell_type": "markdown",
   "metadata": {},
   "source": [
    "# Load data"
   ]
  },
  {
   "cell_type": "code",
   "execution_count": 2,
   "metadata": {
    "collapsed": true
   },
   "outputs": [],
   "source": [
    "flights_path1 = '/gh/data/flightdelay/flights.csv'"
   ]
  },
  {
   "cell_type": "code",
   "execution_count": 3,
   "metadata": {
    "collapsed": false
   },
   "outputs": [],
   "source": [
    "df_fl1 = pd.io.parsers.read_csv(flights_path1)"
   ]
  },
  {
   "cell_type": "code",
   "execution_count": 9,
   "metadata": {
    "collapsed": false
   },
   "outputs": [],
   "source": [
    "df_BSMo = df_fl1[df_fl1['ORIGIN_AIRPORT']=='BSM']\n",
    "df_AUSo = df_fl1[df_fl1['ORIGIN_AIRPORT']=='AUS']\n",
    "df_BSMd = df_fl1[df_fl1['DESTINATION_AIRPORT']=='BSM']\n",
    "df_AUSd = df_fl1[df_fl1['DESTINATION_AIRPORT']=='AUS']"
   ]
  },
  {
   "cell_type": "code",
   "execution_count": 10,
   "metadata": {
    "collapsed": false
   },
   "outputs": [
    {
     "name": "stdout",
     "output_type": "stream",
     "text": [
      "4021\n",
      "4014\n",
      "42067\n",
      "42078\n"
     ]
    }
   ],
   "source": [
    "print(len(df_BSMo))\n",
    "print(len(df_BSMd))\n",
    "print(len(df_AUSo))\n",
    "print(len(df_AUSd))"
   ]
  },
  {
   "cell_type": "markdown",
   "metadata": {},
   "source": [
    "# Replace all BSM with AUS"
   ]
  },
  {
   "cell_type": "code",
   "execution_count": 11,
   "metadata": {
    "collapsed": true
   },
   "outputs": [],
   "source": [
    "df_fl2 = df_fl1.replace('BSM', 'AUS')"
   ]
  },
  {
   "cell_type": "code",
   "execution_count": 12,
   "metadata": {
    "collapsed": true
   },
   "outputs": [],
   "source": [
    "df_BSMo2 = df_fl2[df_fl2['ORIGIN_AIRPORT']=='BSM']\n",
    "df_AUSo2 = df_fl2[df_fl2['ORIGIN_AIRPORT']=='AUS']\n",
    "df_BSMd2 = df_fl2[df_fl2['DESTINATION_AIRPORT']=='BSM']\n",
    "df_AUSd2 = df_fl2[df_fl2['DESTINATION_AIRPORT']=='AUS']"
   ]
  },
  {
   "cell_type": "code",
   "execution_count": 13,
   "metadata": {
    "collapsed": false
   },
   "outputs": [
    {
     "name": "stdout",
     "output_type": "stream",
     "text": [
      "0\n",
      "0\n",
      "46088\n",
      "46092\n"
     ]
    }
   ],
   "source": [
    "print(len(df_BSMo2))\n",
    "print(len(df_BSMd2))\n",
    "print(len(df_AUSo2))\n",
    "print(len(df_AUSd2))"
   ]
  },
  {
   "cell_type": "markdown",
   "metadata": {
    "collapsed": false
   },
   "source": [
    "# Save new flights"
   ]
  },
  {
   "cell_type": "code",
   "execution_count": 14,
   "metadata": {
    "collapsed": true
   },
   "outputs": [],
   "source": [
    "df_fl2.to_csv('/gh/data/flightdelay/flights2.csv')"
   ]
  },
  {
   "cell_type": "code",
   "execution_count": null,
   "metadata": {
    "collapsed": true
   },
   "outputs": [],
   "source": []
  }
 ],
 "metadata": {
  "kernelspec": {
   "display_name": "Python 3",
   "language": "python",
   "name": "python3"
  },
  "language_info": {
   "codemirror_mode": {
    "name": "ipython",
    "version": 3
   },
   "file_extension": ".py",
   "mimetype": "text/x-python",
   "name": "python",
   "nbconvert_exporter": "python",
   "pygments_lexer": "ipython3",
   "version": "3.6.0"
  }
 },
 "nbformat": 4,
 "nbformat_minor": 2
}
