{
 "cells": [
  {
   "cell_type": "markdown",
   "metadata": {},
   "source": [
    "# Predicting Flight Delay\n",
    "\n",
    "Problem Set-up:\n",
    "We define a delayed flight to be one that is delayed by >= 15 minutes. \n",
    "The prediction problem is to train a model that can classify flights, to predict if they will or will not be delayed.\n",
    "\n",
    "Use case:\n",
    "- The idea is that this model would be useful to choosing airlines, flightpaths, airports, at the time of booking, relatively in advance of the scheduled departure (days, weeks, months ahead of time). Therefore, the prediction problem will focus on features that can be known in advance, rather than predicting using day-off features like weather and previous flights from that day. \n",
    "\n",
    "Notes:\n",
    "- We restrict the analysis to relatively large airport, those with more than 20 (domestic) flights a day\n",
    "\n",
    "# This notebook: more features\n",
    "* one-hot day of week\n",
    "* one-hot month\n",
    "* one-hot airline\n",
    "* one-hot airport\n",
    "* one-hot departure hour\n",
    "\n",
    "# Create separate models to predict for each airport \n",
    "\n",
    "Motivation:\n",
    "The weights that should eb put on features (e.g. airlines) may differ depending on the airport (see e.g. NB 4B) since different airports can have different environments (e.g. San Diego and Chicago winters are very different; American Airlines is better in Tuscon than in Anchorage."
   ]
  },
  {
   "cell_type": "code",
   "execution_count": 1,
   "metadata": {
    "collapsed": true
   },
   "outputs": [],
   "source": [
    "# Imports\n",
    "%config InlineBackend.figure_format = 'retina'\n",
    "%matplotlib inline\n",
    "\n",
    "import numpy as np\n",
    "import scipy as sp\n",
    "import matplotlib.pyplot as plt\n",
    "import pandas as pd\n",
    "\n",
    "import seaborn as sns\n",
    "sns.set_style('white')\n",
    "\n",
    "from sklearn.linear_model import LogisticRegression"
   ]
  },
  {
   "cell_type": "code",
   "execution_count": 2,
   "metadata": {
    "collapsed": false
   },
   "outputs": [],
   "source": [
    "# Import custom code\n",
    "from flightdelay.fld import io as flio"
   ]
  },
  {
   "cell_type": "markdown",
   "metadata": {},
   "source": [
    "# Load data"
   ]
  },
  {
   "cell_type": "code",
   "execution_count": 3,
   "metadata": {
    "collapsed": false
   },
   "outputs": [],
   "source": [
    "airlines_df, airports_df, flights_df = flio.load_data()"
   ]
  },
  {
   "cell_type": "code",
   "execution_count": 4,
   "metadata": {
    "collapsed": true
   },
   "outputs": [],
   "source": [
    "# Filter data to keys of interest\n",
    "keys = ['MONTH', 'DAY', 'DAY_OF_WEEK', 'AIRLINE', 'FLIGHT_NUMBER', 'TAIL_NUMBER', 'ORIGIN_AIRPORT',\n",
    "       'DESTINATION_AIRPORT', 'SCHEDULED_DEPARTURE', 'DEPARTURE_TIME',\n",
    "       'DEPARTURE_DELAY', 'TAXI_OUT', 'WHEELS_OFF', 'SCHEDULED_TIME',\n",
    "       'ELAPSED_TIME', 'AIR_TIME', 'DISTANCE', 'WHEELS_ON', 'TAXI_IN',\n",
    "       'SCHEDULED_ARRIVAL', 'ARRIVAL_TIME', 'ARRIVAL_DELAY']\n",
    "flights_df = flights_df[keys]"
   ]
  },
  {
   "cell_type": "markdown",
   "metadata": {},
   "source": [
    "# Remove airports with less than a certain number of flights"
   ]
  },
  {
   "cell_type": "code",
   "execution_count": 5,
   "metadata": {
    "collapsed": false
   },
   "outputs": [],
   "source": [
    "all_airports, airport_inverse, airport_count = np.unique(flights_df['ORIGIN_AIRPORT'],return_counts=True,return_inverse=True)"
   ]
  },
  {
   "cell_type": "code",
   "execution_count": 6,
   "metadata": {
    "collapsed": false
   },
   "outputs": [],
   "source": [
    "# Determine number of flights for the origin airport\n",
    "Nflights_orig = np.zeros(len(airport_inverse))\n",
    "for i in range(len(all_airports)):\n",
    "    Nflights_orig[np.where(airport_inverse==i)] = airport_count[i]"
   ]
  },
  {
   "cell_type": "code",
   "execution_count": 7,
   "metadata": {
    "collapsed": true
   },
   "outputs": [],
   "source": [
    "flights_df = flights_df.loc[flights_df.index[Nflights_orig>=7300]]"
   ]
  },
  {
   "cell_type": "markdown",
   "metadata": {},
   "source": [
    "# Remove cancelled flights"
   ]
  },
  {
   "cell_type": "code",
   "execution_count": 8,
   "metadata": {
    "collapsed": false
   },
   "outputs": [
    {
     "data": {
      "text/html": [
       "<div>\n",
       "<table border=\"1\" class=\"dataframe\">\n",
       "  <thead>\n",
       "    <tr style=\"text-align: right;\">\n",
       "      <th></th>\n",
       "      <th>MONTH</th>\n",
       "      <th>DAY</th>\n",
       "      <th>DAY_OF_WEEK</th>\n",
       "      <th>AIRLINE</th>\n",
       "      <th>FLIGHT_NUMBER</th>\n",
       "      <th>TAIL_NUMBER</th>\n",
       "      <th>ORIGIN_AIRPORT</th>\n",
       "      <th>DESTINATION_AIRPORT</th>\n",
       "      <th>SCHEDULED_DEPARTURE</th>\n",
       "      <th>DEPARTURE_TIME</th>\n",
       "      <th>...</th>\n",
       "      <th>WHEELS_OFF</th>\n",
       "      <th>SCHEDULED_TIME</th>\n",
       "      <th>ELAPSED_TIME</th>\n",
       "      <th>AIR_TIME</th>\n",
       "      <th>DISTANCE</th>\n",
       "      <th>WHEELS_ON</th>\n",
       "      <th>TAXI_IN</th>\n",
       "      <th>SCHEDULED_ARRIVAL</th>\n",
       "      <th>ARRIVAL_TIME</th>\n",
       "      <th>ARRIVAL_DELAY</th>\n",
       "    </tr>\n",
       "  </thead>\n",
       "  <tbody>\n",
       "    <tr>\n",
       "      <th>0</th>\n",
       "      <td>1</td>\n",
       "      <td>1</td>\n",
       "      <td>4</td>\n",
       "      <td>AS</td>\n",
       "      <td>98</td>\n",
       "      <td>N407AS</td>\n",
       "      <td>ANC</td>\n",
       "      <td>SEA</td>\n",
       "      <td>5</td>\n",
       "      <td>2354.0</td>\n",
       "      <td>...</td>\n",
       "      <td>15.0</td>\n",
       "      <td>205.0</td>\n",
       "      <td>194.0</td>\n",
       "      <td>169.0</td>\n",
       "      <td>1448</td>\n",
       "      <td>404.0</td>\n",
       "      <td>4.0</td>\n",
       "      <td>430</td>\n",
       "      <td>408.0</td>\n",
       "      <td>-22.0</td>\n",
       "    </tr>\n",
       "    <tr>\n",
       "      <th>1</th>\n",
       "      <td>1</td>\n",
       "      <td>1</td>\n",
       "      <td>4</td>\n",
       "      <td>AA</td>\n",
       "      <td>2336</td>\n",
       "      <td>N3KUAA</td>\n",
       "      <td>LAX</td>\n",
       "      <td>PBI</td>\n",
       "      <td>10</td>\n",
       "      <td>2.0</td>\n",
       "      <td>...</td>\n",
       "      <td>14.0</td>\n",
       "      <td>280.0</td>\n",
       "      <td>279.0</td>\n",
       "      <td>263.0</td>\n",
       "      <td>2330</td>\n",
       "      <td>737.0</td>\n",
       "      <td>4.0</td>\n",
       "      <td>750</td>\n",
       "      <td>741.0</td>\n",
       "      <td>-9.0</td>\n",
       "    </tr>\n",
       "    <tr>\n",
       "      <th>2</th>\n",
       "      <td>1</td>\n",
       "      <td>1</td>\n",
       "      <td>4</td>\n",
       "      <td>US</td>\n",
       "      <td>840</td>\n",
       "      <td>N171US</td>\n",
       "      <td>SFO</td>\n",
       "      <td>CLT</td>\n",
       "      <td>20</td>\n",
       "      <td>18.0</td>\n",
       "      <td>...</td>\n",
       "      <td>34.0</td>\n",
       "      <td>286.0</td>\n",
       "      <td>293.0</td>\n",
       "      <td>266.0</td>\n",
       "      <td>2296</td>\n",
       "      <td>800.0</td>\n",
       "      <td>11.0</td>\n",
       "      <td>806</td>\n",
       "      <td>811.0</td>\n",
       "      <td>5.0</td>\n",
       "    </tr>\n",
       "    <tr>\n",
       "      <th>3</th>\n",
       "      <td>1</td>\n",
       "      <td>1</td>\n",
       "      <td>4</td>\n",
       "      <td>AA</td>\n",
       "      <td>258</td>\n",
       "      <td>N3HYAA</td>\n",
       "      <td>LAX</td>\n",
       "      <td>MIA</td>\n",
       "      <td>20</td>\n",
       "      <td>15.0</td>\n",
       "      <td>...</td>\n",
       "      <td>30.0</td>\n",
       "      <td>285.0</td>\n",
       "      <td>281.0</td>\n",
       "      <td>258.0</td>\n",
       "      <td>2342</td>\n",
       "      <td>748.0</td>\n",
       "      <td>8.0</td>\n",
       "      <td>805</td>\n",
       "      <td>756.0</td>\n",
       "      <td>-9.0</td>\n",
       "    </tr>\n",
       "    <tr>\n",
       "      <th>4</th>\n",
       "      <td>1</td>\n",
       "      <td>1</td>\n",
       "      <td>4</td>\n",
       "      <td>AS</td>\n",
       "      <td>135</td>\n",
       "      <td>N527AS</td>\n",
       "      <td>SEA</td>\n",
       "      <td>ANC</td>\n",
       "      <td>25</td>\n",
       "      <td>24.0</td>\n",
       "      <td>...</td>\n",
       "      <td>35.0</td>\n",
       "      <td>235.0</td>\n",
       "      <td>215.0</td>\n",
       "      <td>199.0</td>\n",
       "      <td>1448</td>\n",
       "      <td>254.0</td>\n",
       "      <td>5.0</td>\n",
       "      <td>320</td>\n",
       "      <td>259.0</td>\n",
       "      <td>-21.0</td>\n",
       "    </tr>\n",
       "  </tbody>\n",
       "</table>\n",
       "<p>5 rows × 22 columns</p>\n",
       "</div>"
      ],
      "text/plain": [
       "   MONTH  DAY  DAY_OF_WEEK AIRLINE  FLIGHT_NUMBER TAIL_NUMBER ORIGIN_AIRPORT  \\\n",
       "0      1    1            4      AS             98      N407AS            ANC   \n",
       "1      1    1            4      AA           2336      N3KUAA            LAX   \n",
       "2      1    1            4      US            840      N171US            SFO   \n",
       "3      1    1            4      AA            258      N3HYAA            LAX   \n",
       "4      1    1            4      AS            135      N527AS            SEA   \n",
       "\n",
       "  DESTINATION_AIRPORT  SCHEDULED_DEPARTURE  DEPARTURE_TIME      ...        \\\n",
       "0                 SEA                    5          2354.0      ...         \n",
       "1                 PBI                   10             2.0      ...         \n",
       "2                 CLT                   20            18.0      ...         \n",
       "3                 MIA                   20            15.0      ...         \n",
       "4                 ANC                   25            24.0      ...         \n",
       "\n",
       "   WHEELS_OFF  SCHEDULED_TIME  ELAPSED_TIME  AIR_TIME  DISTANCE  WHEELS_ON  \\\n",
       "0        15.0           205.0         194.0     169.0      1448      404.0   \n",
       "1        14.0           280.0         279.0     263.0      2330      737.0   \n",
       "2        34.0           286.0         293.0     266.0      2296      800.0   \n",
       "3        30.0           285.0         281.0     258.0      2342      748.0   \n",
       "4        35.0           235.0         215.0     199.0      1448      254.0   \n",
       "\n",
       "   TAXI_IN  SCHEDULED_ARRIVAL  ARRIVAL_TIME  ARRIVAL_DELAY  \n",
       "0      4.0                430         408.0          -22.0  \n",
       "1      4.0                750         741.0           -9.0  \n",
       "2     11.0                806         811.0            5.0  \n",
       "3      8.0                805         756.0           -9.0  \n",
       "4      5.0                320         259.0          -21.0  \n",
       "\n",
       "[5 rows x 22 columns]"
      ]
     },
     "execution_count": 8,
     "metadata": {},
     "output_type": "execute_result"
    }
   ],
   "source": [
    "flights_df = flights_df.dropna()\n",
    "flights_df.head()"
   ]
  },
  {
   "cell_type": "markdown",
   "metadata": {},
   "source": [
    "# Make train and val set"
   ]
  },
  {
   "cell_type": "code",
   "execution_count": 9,
   "metadata": {
    "collapsed": false
   },
   "outputs": [],
   "source": [
    "N_flights = 1000000\n",
    "N_train = int(N_flights*.7)\n",
    "np.random.seed(0)\n",
    "flight_take_idx = np.random.permutation(flights_df.index)[:N_flights]\n",
    "df_trainval = flights_df.loc[flight_take_idx]"
   ]
  },
  {
   "cell_type": "code",
   "execution_count": 10,
   "metadata": {
    "collapsed": false
   },
   "outputs": [
    {
     "data": {
      "text/html": [
       "<div>\n",
       "<table border=\"1\" class=\"dataframe\">\n",
       "  <thead>\n",
       "    <tr style=\"text-align: right;\">\n",
       "      <th></th>\n",
       "      <th>MONTH</th>\n",
       "      <th>DAY</th>\n",
       "      <th>DAY_OF_WEEK</th>\n",
       "      <th>AIRLINE</th>\n",
       "      <th>FLIGHT_NUMBER</th>\n",
       "      <th>TAIL_NUMBER</th>\n",
       "      <th>ORIGIN_AIRPORT</th>\n",
       "      <th>DESTINATION_AIRPORT</th>\n",
       "      <th>SCHEDULED_DEPARTURE</th>\n",
       "      <th>DEPARTURE_TIME</th>\n",
       "      <th>...</th>\n",
       "      <th>WHEELS_OFF</th>\n",
       "      <th>SCHEDULED_TIME</th>\n",
       "      <th>ELAPSED_TIME</th>\n",
       "      <th>AIR_TIME</th>\n",
       "      <th>DISTANCE</th>\n",
       "      <th>WHEELS_ON</th>\n",
       "      <th>TAXI_IN</th>\n",
       "      <th>SCHEDULED_ARRIVAL</th>\n",
       "      <th>ARRIVAL_TIME</th>\n",
       "      <th>ARRIVAL_DELAY</th>\n",
       "    </tr>\n",
       "  </thead>\n",
       "  <tbody>\n",
       "    <tr>\n",
       "      <th>3783504</th>\n",
       "      <td>8</td>\n",
       "      <td>23</td>\n",
       "      <td>7</td>\n",
       "      <td>WN</td>\n",
       "      <td>285</td>\n",
       "      <td>N7738A</td>\n",
       "      <td>MCI</td>\n",
       "      <td>DEN</td>\n",
       "      <td>1410</td>\n",
       "      <td>1408.0</td>\n",
       "      <td>...</td>\n",
       "      <td>1414.0</td>\n",
       "      <td>105.0</td>\n",
       "      <td>95.0</td>\n",
       "      <td>83.0</td>\n",
       "      <td>533</td>\n",
       "      <td>1437.0</td>\n",
       "      <td>6.0</td>\n",
       "      <td>1455</td>\n",
       "      <td>1443.0</td>\n",
       "      <td>-12.0</td>\n",
       "    </tr>\n",
       "    <tr>\n",
       "      <th>5412589</th>\n",
       "      <td>12</td>\n",
       "      <td>5</td>\n",
       "      <td>6</td>\n",
       "      <td>AS</td>\n",
       "      <td>335</td>\n",
       "      <td>N520AS</td>\n",
       "      <td>SJC</td>\n",
       "      <td>SEA</td>\n",
       "      <td>1550</td>\n",
       "      <td>1534.0</td>\n",
       "      <td>...</td>\n",
       "      <td>1554.0</td>\n",
       "      <td>120.0</td>\n",
       "      <td>135.0</td>\n",
       "      <td>105.0</td>\n",
       "      <td>697</td>\n",
       "      <td>1739.0</td>\n",
       "      <td>10.0</td>\n",
       "      <td>1750</td>\n",
       "      <td>1749.0</td>\n",
       "      <td>-1.0</td>\n",
       "    </tr>\n",
       "    <tr>\n",
       "      <th>5347613</th>\n",
       "      <td>12</td>\n",
       "      <td>1</td>\n",
       "      <td>2</td>\n",
       "      <td>UA</td>\n",
       "      <td>1750</td>\n",
       "      <td>N76254</td>\n",
       "      <td>SAN</td>\n",
       "      <td>IAH</td>\n",
       "      <td>1314</td>\n",
       "      <td>1354.0</td>\n",
       "      <td>...</td>\n",
       "      <td>1406.0</td>\n",
       "      <td>188.0</td>\n",
       "      <td>168.0</td>\n",
       "      <td>148.0</td>\n",
       "      <td>1303</td>\n",
       "      <td>1834.0</td>\n",
       "      <td>8.0</td>\n",
       "      <td>1822</td>\n",
       "      <td>1842.0</td>\n",
       "      <td>20.0</td>\n",
       "    </tr>\n",
       "    <tr>\n",
       "      <th>2383329</th>\n",
       "      <td>5</td>\n",
       "      <td>31</td>\n",
       "      <td>7</td>\n",
       "      <td>WN</td>\n",
       "      <td>396</td>\n",
       "      <td>N8318F</td>\n",
       "      <td>AUS</td>\n",
       "      <td>DEN</td>\n",
       "      <td>1935</td>\n",
       "      <td>2039.0</td>\n",
       "      <td>...</td>\n",
       "      <td>2051.0</td>\n",
       "      <td>140.0</td>\n",
       "      <td>128.0</td>\n",
       "      <td>109.0</td>\n",
       "      <td>775</td>\n",
       "      <td>2140.0</td>\n",
       "      <td>7.0</td>\n",
       "      <td>2055</td>\n",
       "      <td>2147.0</td>\n",
       "      <td>52.0</td>\n",
       "    </tr>\n",
       "    <tr>\n",
       "      <th>2817074</th>\n",
       "      <td>6</td>\n",
       "      <td>26</td>\n",
       "      <td>5</td>\n",
       "      <td>EV</td>\n",
       "      <td>4899</td>\n",
       "      <td>N133EV</td>\n",
       "      <td>ATL</td>\n",
       "      <td>MYR</td>\n",
       "      <td>1454</td>\n",
       "      <td>1509.0</td>\n",
       "      <td>...</td>\n",
       "      <td>1533.0</td>\n",
       "      <td>85.0</td>\n",
       "      <td>77.0</td>\n",
       "      <td>49.0</td>\n",
       "      <td>317</td>\n",
       "      <td>1622.0</td>\n",
       "      <td>4.0</td>\n",
       "      <td>1619</td>\n",
       "      <td>1626.0</td>\n",
       "      <td>7.0</td>\n",
       "    </tr>\n",
       "    <tr>\n",
       "      <th>5428910</th>\n",
       "      <td>12</td>\n",
       "      <td>6</td>\n",
       "      <td>7</td>\n",
       "      <td>OO</td>\n",
       "      <td>5236</td>\n",
       "      <td>N756SK</td>\n",
       "      <td>ORD</td>\n",
       "      <td>OKC</td>\n",
       "      <td>1913</td>\n",
       "      <td>1925.0</td>\n",
       "      <td>...</td>\n",
       "      <td>1949.0</td>\n",
       "      <td>133.0</td>\n",
       "      <td>121.0</td>\n",
       "      <td>91.0</td>\n",
       "      <td>693</td>\n",
       "      <td>2120.0</td>\n",
       "      <td>6.0</td>\n",
       "      <td>2126</td>\n",
       "      <td>2126.0</td>\n",
       "      <td>0.0</td>\n",
       "    </tr>\n",
       "    <tr>\n",
       "      <th>4073892</th>\n",
       "      <td>9</td>\n",
       "      <td>10</td>\n",
       "      <td>4</td>\n",
       "      <td>HA</td>\n",
       "      <td>516</td>\n",
       "      <td>N484HA</td>\n",
       "      <td>HNL</td>\n",
       "      <td>OGG</td>\n",
       "      <td>2150</td>\n",
       "      <td>2144.0</td>\n",
       "      <td>...</td>\n",
       "      <td>2155.0</td>\n",
       "      <td>38.0</td>\n",
       "      <td>41.0</td>\n",
       "      <td>23.0</td>\n",
       "      <td>100</td>\n",
       "      <td>2218.0</td>\n",
       "      <td>7.0</td>\n",
       "      <td>2228</td>\n",
       "      <td>2225.0</td>\n",
       "      <td>-3.0</td>\n",
       "    </tr>\n",
       "    <tr>\n",
       "      <th>2296450</th>\n",
       "      <td>5</td>\n",
       "      <td>26</td>\n",
       "      <td>2</td>\n",
       "      <td>EV</td>\n",
       "      <td>6176</td>\n",
       "      <td>N12996</td>\n",
       "      <td>EWR</td>\n",
       "      <td>GSO</td>\n",
       "      <td>1306</td>\n",
       "      <td>1318.0</td>\n",
       "      <td>...</td>\n",
       "      <td>1330.0</td>\n",
       "      <td>99.0</td>\n",
       "      <td>85.0</td>\n",
       "      <td>68.0</td>\n",
       "      <td>445</td>\n",
       "      <td>1438.0</td>\n",
       "      <td>5.0</td>\n",
       "      <td>1445</td>\n",
       "      <td>1443.0</td>\n",
       "      <td>-2.0</td>\n",
       "    </tr>\n",
       "    <tr>\n",
       "      <th>1182922</th>\n",
       "      <td>3</td>\n",
       "      <td>18</td>\n",
       "      <td>3</td>\n",
       "      <td>WN</td>\n",
       "      <td>1969</td>\n",
       "      <td>N932WN</td>\n",
       "      <td>TPA</td>\n",
       "      <td>MDW</td>\n",
       "      <td>1330</td>\n",
       "      <td>1330.0</td>\n",
       "      <td>...</td>\n",
       "      <td>1344.0</td>\n",
       "      <td>160.0</td>\n",
       "      <td>159.0</td>\n",
       "      <td>141.0</td>\n",
       "      <td>997</td>\n",
       "      <td>1505.0</td>\n",
       "      <td>4.0</td>\n",
       "      <td>1510</td>\n",
       "      <td>1509.0</td>\n",
       "      <td>-1.0</td>\n",
       "    </tr>\n",
       "    <tr>\n",
       "      <th>5228455</th>\n",
       "      <td>11</td>\n",
       "      <td>23</td>\n",
       "      <td>1</td>\n",
       "      <td>WN</td>\n",
       "      <td>2375</td>\n",
       "      <td>N8323C</td>\n",
       "      <td>IND</td>\n",
       "      <td>TPA</td>\n",
       "      <td>1545</td>\n",
       "      <td>1546.0</td>\n",
       "      <td>...</td>\n",
       "      <td>1555.0</td>\n",
       "      <td>135.0</td>\n",
       "      <td>119.0</td>\n",
       "      <td>105.0</td>\n",
       "      <td>837</td>\n",
       "      <td>1740.0</td>\n",
       "      <td>5.0</td>\n",
       "      <td>1800</td>\n",
       "      <td>1745.0</td>\n",
       "      <td>-15.0</td>\n",
       "    </tr>\n",
       "    <tr>\n",
       "      <th>2487981</th>\n",
       "      <td>6</td>\n",
       "      <td>7</td>\n",
       "      <td>7</td>\n",
       "      <td>DL</td>\n",
       "      <td>465</td>\n",
       "      <td>N6713Y</td>\n",
       "      <td>JFK</td>\n",
       "      <td>STT</td>\n",
       "      <td>835</td>\n",
       "      <td>830.0</td>\n",
       "      <td>...</td>\n",
       "      <td>900.0</td>\n",
       "      <td>245.0</td>\n",
       "      <td>233.0</td>\n",
       "      <td>198.0</td>\n",
       "      <td>1623</td>\n",
       "      <td>1218.0</td>\n",
       "      <td>5.0</td>\n",
       "      <td>1240</td>\n",
       "      <td>1223.0</td>\n",
       "      <td>-17.0</td>\n",
       "    </tr>\n",
       "    <tr>\n",
       "      <th>3409870</th>\n",
       "      <td>7</td>\n",
       "      <td>31</td>\n",
       "      <td>5</td>\n",
       "      <td>WN</td>\n",
       "      <td>1283</td>\n",
       "      <td>N640SW</td>\n",
       "      <td>DEN</td>\n",
       "      <td>OAK</td>\n",
       "      <td>2220</td>\n",
       "      <td>2235.0</td>\n",
       "      <td>...</td>\n",
       "      <td>2244.0</td>\n",
       "      <td>155.0</td>\n",
       "      <td>144.0</td>\n",
       "      <td>130.0</td>\n",
       "      <td>957</td>\n",
       "      <td>2354.0</td>\n",
       "      <td>5.0</td>\n",
       "      <td>2355</td>\n",
       "      <td>2359.0</td>\n",
       "      <td>4.0</td>\n",
       "    </tr>\n",
       "    <tr>\n",
       "      <th>2764489</th>\n",
       "      <td>6</td>\n",
       "      <td>23</td>\n",
       "      <td>2</td>\n",
       "      <td>WN</td>\n",
       "      <td>3675</td>\n",
       "      <td>N462WN</td>\n",
       "      <td>BUR</td>\n",
       "      <td>PHX</td>\n",
       "      <td>1415</td>\n",
       "      <td>1415.0</td>\n",
       "      <td>...</td>\n",
       "      <td>1424.0</td>\n",
       "      <td>80.0</td>\n",
       "      <td>79.0</td>\n",
       "      <td>61.0</td>\n",
       "      <td>369</td>\n",
       "      <td>1525.0</td>\n",
       "      <td>9.0</td>\n",
       "      <td>1535</td>\n",
       "      <td>1534.0</td>\n",
       "      <td>-1.0</td>\n",
       "    </tr>\n",
       "    <tr>\n",
       "      <th>1100127</th>\n",
       "      <td>3</td>\n",
       "      <td>13</td>\n",
       "      <td>5</td>\n",
       "      <td>DL</td>\n",
       "      <td>1730</td>\n",
       "      <td>N922DL</td>\n",
       "      <td>CHS</td>\n",
       "      <td>ATL</td>\n",
       "      <td>1130</td>\n",
       "      <td>1131.0</td>\n",
       "      <td>...</td>\n",
       "      <td>1145.0</td>\n",
       "      <td>79.0</td>\n",
       "      <td>74.0</td>\n",
       "      <td>52.0</td>\n",
       "      <td>259</td>\n",
       "      <td>1237.0</td>\n",
       "      <td>8.0</td>\n",
       "      <td>1249</td>\n",
       "      <td>1245.0</td>\n",
       "      <td>-4.0</td>\n",
       "    </tr>\n",
       "    <tr>\n",
       "      <th>5565707</th>\n",
       "      <td>12</td>\n",
       "      <td>15</td>\n",
       "      <td>2</td>\n",
       "      <td>WN</td>\n",
       "      <td>2420</td>\n",
       "      <td>N912WN</td>\n",
       "      <td>LAS</td>\n",
       "      <td>DAL</td>\n",
       "      <td>1640</td>\n",
       "      <td>1642.0</td>\n",
       "      <td>...</td>\n",
       "      <td>1652.0</td>\n",
       "      <td>155.0</td>\n",
       "      <td>144.0</td>\n",
       "      <td>125.0</td>\n",
       "      <td>1067</td>\n",
       "      <td>2057.0</td>\n",
       "      <td>9.0</td>\n",
       "      <td>2115</td>\n",
       "      <td>2106.0</td>\n",
       "      <td>-9.0</td>\n",
       "    </tr>\n",
       "    <tr>\n",
       "      <th>5343665</th>\n",
       "      <td>12</td>\n",
       "      <td>1</td>\n",
       "      <td>2</td>\n",
       "      <td>OO</td>\n",
       "      <td>4637</td>\n",
       "      <td>N802SK</td>\n",
       "      <td>MSP</td>\n",
       "      <td>MEM</td>\n",
       "      <td>906</td>\n",
       "      <td>1019.0</td>\n",
       "      <td>...</td>\n",
       "      <td>1052.0</td>\n",
       "      <td>135.0</td>\n",
       "      <td>144.0</td>\n",
       "      <td>105.0</td>\n",
       "      <td>700</td>\n",
       "      <td>1237.0</td>\n",
       "      <td>6.0</td>\n",
       "      <td>1121</td>\n",
       "      <td>1243.0</td>\n",
       "      <td>82.0</td>\n",
       "    </tr>\n",
       "    <tr>\n",
       "      <th>1370758</th>\n",
       "      <td>3</td>\n",
       "      <td>30</td>\n",
       "      <td>1</td>\n",
       "      <td>MQ</td>\n",
       "      <td>3397</td>\n",
       "      <td>N517MQ</td>\n",
       "      <td>ABQ</td>\n",
       "      <td>ORD</td>\n",
       "      <td>600</td>\n",
       "      <td>553.0</td>\n",
       "      <td>...</td>\n",
       "      <td>609.0</td>\n",
       "      <td>167.0</td>\n",
       "      <td>174.0</td>\n",
       "      <td>137.0</td>\n",
       "      <td>1118</td>\n",
       "      <td>926.0</td>\n",
       "      <td>21.0</td>\n",
       "      <td>947</td>\n",
       "      <td>947.0</td>\n",
       "      <td>0.0</td>\n",
       "    </tr>\n",
       "    <tr>\n",
       "      <th>2441007</th>\n",
       "      <td>6</td>\n",
       "      <td>4</td>\n",
       "      <td>4</td>\n",
       "      <td>US</td>\n",
       "      <td>1917</td>\n",
       "      <td>N193UW</td>\n",
       "      <td>PHL</td>\n",
       "      <td>LAX</td>\n",
       "      <td>955</td>\n",
       "      <td>957.0</td>\n",
       "      <td>...</td>\n",
       "      <td>1028.0</td>\n",
       "      <td>354.0</td>\n",
       "      <td>344.0</td>\n",
       "      <td>307.0</td>\n",
       "      <td>2402</td>\n",
       "      <td>1235.0</td>\n",
       "      <td>6.0</td>\n",
       "      <td>1249</td>\n",
       "      <td>1241.0</td>\n",
       "      <td>-8.0</td>\n",
       "    </tr>\n",
       "    <tr>\n",
       "      <th>5390933</th>\n",
       "      <td>12</td>\n",
       "      <td>4</td>\n",
       "      <td>5</td>\n",
       "      <td>OO</td>\n",
       "      <td>3466</td>\n",
       "      <td>N702BR</td>\n",
       "      <td>PDX</td>\n",
       "      <td>TUS</td>\n",
       "      <td>825</td>\n",
       "      <td>818.0</td>\n",
       "      <td>...</td>\n",
       "      <td>830.0</td>\n",
       "      <td>165.0</td>\n",
       "      <td>159.0</td>\n",
       "      <td>142.0</td>\n",
       "      <td>1119</td>\n",
       "      <td>1152.0</td>\n",
       "      <td>5.0</td>\n",
       "      <td>1210</td>\n",
       "      <td>1157.0</td>\n",
       "      <td>-13.0</td>\n",
       "    </tr>\n",
       "    <tr>\n",
       "      <th>272102</th>\n",
       "      <td>1</td>\n",
       "      <td>18</td>\n",
       "      <td>7</td>\n",
       "      <td>AS</td>\n",
       "      <td>518</td>\n",
       "      <td>N549AS</td>\n",
       "      <td>SEA</td>\n",
       "      <td>SNA</td>\n",
       "      <td>1950</td>\n",
       "      <td>1954.0</td>\n",
       "      <td>...</td>\n",
       "      <td>2019.0</td>\n",
       "      <td>148.0</td>\n",
       "      <td>162.0</td>\n",
       "      <td>133.0</td>\n",
       "      <td>978</td>\n",
       "      <td>2232.0</td>\n",
       "      <td>4.0</td>\n",
       "      <td>2218</td>\n",
       "      <td>2236.0</td>\n",
       "      <td>18.0</td>\n",
       "    </tr>\n",
       "  </tbody>\n",
       "</table>\n",
       "<p>20 rows × 22 columns</p>\n",
       "</div>"
      ],
      "text/plain": [
       "         MONTH  DAY  DAY_OF_WEEK AIRLINE  FLIGHT_NUMBER TAIL_NUMBER  \\\n",
       "3783504      8   23            7      WN            285      N7738A   \n",
       "5412589     12    5            6      AS            335      N520AS   \n",
       "5347613     12    1            2      UA           1750      N76254   \n",
       "2383329      5   31            7      WN            396      N8318F   \n",
       "2817074      6   26            5      EV           4899      N133EV   \n",
       "5428910     12    6            7      OO           5236      N756SK   \n",
       "4073892      9   10            4      HA            516      N484HA   \n",
       "2296450      5   26            2      EV           6176      N12996   \n",
       "1182922      3   18            3      WN           1969      N932WN   \n",
       "5228455     11   23            1      WN           2375      N8323C   \n",
       "2487981      6    7            7      DL            465      N6713Y   \n",
       "3409870      7   31            5      WN           1283      N640SW   \n",
       "2764489      6   23            2      WN           3675      N462WN   \n",
       "1100127      3   13            5      DL           1730      N922DL   \n",
       "5565707     12   15            2      WN           2420      N912WN   \n",
       "5343665     12    1            2      OO           4637      N802SK   \n",
       "1370758      3   30            1      MQ           3397      N517MQ   \n",
       "2441007      6    4            4      US           1917      N193UW   \n",
       "5390933     12    4            5      OO           3466      N702BR   \n",
       "272102       1   18            7      AS            518      N549AS   \n",
       "\n",
       "        ORIGIN_AIRPORT DESTINATION_AIRPORT  SCHEDULED_DEPARTURE  \\\n",
       "3783504            MCI                 DEN                 1410   \n",
       "5412589            SJC                 SEA                 1550   \n",
       "5347613            SAN                 IAH                 1314   \n",
       "2383329            AUS                 DEN                 1935   \n",
       "2817074            ATL                 MYR                 1454   \n",
       "5428910            ORD                 OKC                 1913   \n",
       "4073892            HNL                 OGG                 2150   \n",
       "2296450            EWR                 GSO                 1306   \n",
       "1182922            TPA                 MDW                 1330   \n",
       "5228455            IND                 TPA                 1545   \n",
       "2487981            JFK                 STT                  835   \n",
       "3409870            DEN                 OAK                 2220   \n",
       "2764489            BUR                 PHX                 1415   \n",
       "1100127            CHS                 ATL                 1130   \n",
       "5565707            LAS                 DAL                 1640   \n",
       "5343665            MSP                 MEM                  906   \n",
       "1370758            ABQ                 ORD                  600   \n",
       "2441007            PHL                 LAX                  955   \n",
       "5390933            PDX                 TUS                  825   \n",
       "272102             SEA                 SNA                 1950   \n",
       "\n",
       "         DEPARTURE_TIME      ...        WHEELS_OFF  SCHEDULED_TIME  \\\n",
       "3783504          1408.0      ...            1414.0           105.0   \n",
       "5412589          1534.0      ...            1554.0           120.0   \n",
       "5347613          1354.0      ...            1406.0           188.0   \n",
       "2383329          2039.0      ...            2051.0           140.0   \n",
       "2817074          1509.0      ...            1533.0            85.0   \n",
       "5428910          1925.0      ...            1949.0           133.0   \n",
       "4073892          2144.0      ...            2155.0            38.0   \n",
       "2296450          1318.0      ...            1330.0            99.0   \n",
       "1182922          1330.0      ...            1344.0           160.0   \n",
       "5228455          1546.0      ...            1555.0           135.0   \n",
       "2487981           830.0      ...             900.0           245.0   \n",
       "3409870          2235.0      ...            2244.0           155.0   \n",
       "2764489          1415.0      ...            1424.0            80.0   \n",
       "1100127          1131.0      ...            1145.0            79.0   \n",
       "5565707          1642.0      ...            1652.0           155.0   \n",
       "5343665          1019.0      ...            1052.0           135.0   \n",
       "1370758           553.0      ...             609.0           167.0   \n",
       "2441007           957.0      ...            1028.0           354.0   \n",
       "5390933           818.0      ...             830.0           165.0   \n",
       "272102           1954.0      ...            2019.0           148.0   \n",
       "\n",
       "         ELAPSED_TIME  AIR_TIME  DISTANCE  WHEELS_ON  TAXI_IN  \\\n",
       "3783504          95.0      83.0       533     1437.0      6.0   \n",
       "5412589         135.0     105.0       697     1739.0     10.0   \n",
       "5347613         168.0     148.0      1303     1834.0      8.0   \n",
       "2383329         128.0     109.0       775     2140.0      7.0   \n",
       "2817074          77.0      49.0       317     1622.0      4.0   \n",
       "5428910         121.0      91.0       693     2120.0      6.0   \n",
       "4073892          41.0      23.0       100     2218.0      7.0   \n",
       "2296450          85.0      68.0       445     1438.0      5.0   \n",
       "1182922         159.0     141.0       997     1505.0      4.0   \n",
       "5228455         119.0     105.0       837     1740.0      5.0   \n",
       "2487981         233.0     198.0      1623     1218.0      5.0   \n",
       "3409870         144.0     130.0       957     2354.0      5.0   \n",
       "2764489          79.0      61.0       369     1525.0      9.0   \n",
       "1100127          74.0      52.0       259     1237.0      8.0   \n",
       "5565707         144.0     125.0      1067     2057.0      9.0   \n",
       "5343665         144.0     105.0       700     1237.0      6.0   \n",
       "1370758         174.0     137.0      1118      926.0     21.0   \n",
       "2441007         344.0     307.0      2402     1235.0      6.0   \n",
       "5390933         159.0     142.0      1119     1152.0      5.0   \n",
       "272102          162.0     133.0       978     2232.0      4.0   \n",
       "\n",
       "         SCHEDULED_ARRIVAL  ARRIVAL_TIME  ARRIVAL_DELAY  \n",
       "3783504               1455        1443.0          -12.0  \n",
       "5412589               1750        1749.0           -1.0  \n",
       "5347613               1822        1842.0           20.0  \n",
       "2383329               2055        2147.0           52.0  \n",
       "2817074               1619        1626.0            7.0  \n",
       "5428910               2126        2126.0            0.0  \n",
       "4073892               2228        2225.0           -3.0  \n",
       "2296450               1445        1443.0           -2.0  \n",
       "1182922               1510        1509.0           -1.0  \n",
       "5228455               1800        1745.0          -15.0  \n",
       "2487981               1240        1223.0          -17.0  \n",
       "3409870               2355        2359.0            4.0  \n",
       "2764489               1535        1534.0           -1.0  \n",
       "1100127               1249        1245.0           -4.0  \n",
       "5565707               2115        2106.0           -9.0  \n",
       "5343665               1121        1243.0           82.0  \n",
       "1370758                947         947.0            0.0  \n",
       "2441007               1249        1241.0           -8.0  \n",
       "5390933               1210        1157.0          -13.0  \n",
       "272102                2218        2236.0           18.0  \n",
       "\n",
       "[20 rows x 22 columns]"
      ]
     },
     "execution_count": 10,
     "metadata": {},
     "output_type": "execute_result"
    }
   ],
   "source": [
    "df_trainval.head(20)"
   ]
  },
  {
   "cell_type": "markdown",
   "metadata": {},
   "source": [
    "# Randomly take subset of data"
   ]
  },
  {
   "cell_type": "markdown",
   "metadata": {},
   "source": [
    "# Compute features\n",
    "* one-hot day of week\n",
    "* one-hot month\n",
    "* one-hot airline\n",
    "* one-hot airport\n",
    "* one-hot departure hour"
   ]
  },
  {
   "cell_type": "markdown",
   "metadata": {},
   "source": [
    "### 0. Original feat"
   ]
  },
  {
   "cell_type": "code",
   "execution_count": 11,
   "metadata": {
    "collapsed": false
   },
   "outputs": [],
   "source": [
    "original_feat = {'f_distance':df_trainval['DISTANCE'].values}"
   ]
  },
  {
   "cell_type": "code",
   "execution_count": 12,
   "metadata": {
    "collapsed": true
   },
   "outputs": [],
   "source": [
    "y_delay = df_trainval['DEPARTURE_DELAY'].values"
   ]
  },
  {
   "cell_type": "markdown",
   "metadata": {},
   "source": [
    "### 1. Day of week"
   ]
  },
  {
   "cell_type": "code",
   "execution_count": 13,
   "metadata": {
    "collapsed": true
   },
   "outputs": [],
   "source": [
    "def make_onehot_feat_dict(df, feat_key, feat_name):\n",
    "    # Create features for each day of the week\n",
    "    feat_vals = df[feat_key].values\n",
    "    all_vals = np.unique(feat_vals)\n",
    "    N_vals = len(all_vals)\n",
    "    N_feat = N_vals - 1\n",
    "\n",
    "    # Create keys\n",
    "    keys = [0]*N_feat\n",
    "    for i in range(N_feat):\n",
    "        keys[i] = 'f_'+feat_name+'_'+ str(all_vals[i])\n",
    "\n",
    "    # Create value for each training example in dict\n",
    "    feat_dict = {}\n",
    "    for i, k in enumerate(keys):\n",
    "        this_day = all_vals[i]\n",
    "        feat_dict[k] = feat_vals == this_day\n",
    "    return feat_dict"
   ]
  },
  {
   "cell_type": "code",
   "execution_count": 14,
   "metadata": {
    "collapsed": false
   },
   "outputs": [],
   "source": [
    "daysfeat_dict = make_onehot_feat_dict(df_trainval, 'DAY_OF_WEEK', 'day')"
   ]
  },
  {
   "cell_type": "markdown",
   "metadata": {},
   "source": [
    "### 2. Month"
   ]
  },
  {
   "cell_type": "code",
   "execution_count": 15,
   "metadata": {
    "collapsed": true
   },
   "outputs": [],
   "source": [
    "monthsfeat_dict = make_onehot_feat_dict(df_trainval, 'MONTH', 'month') "
   ]
  },
  {
   "cell_type": "markdown",
   "metadata": {},
   "source": [
    "### 3. Departing airport"
   ]
  },
  {
   "cell_type": "code",
   "execution_count": 16,
   "metadata": {
    "collapsed": false
   },
   "outputs": [],
   "source": [
    "dapfeat_dict = make_onehot_feat_dict(df_trainval, 'ORIGIN_AIRPORT', 'dap') "
   ]
  },
  {
   "cell_type": "markdown",
   "metadata": {},
   "source": [
    "### 4. Airline"
   ]
  },
  {
   "cell_type": "code",
   "execution_count": 17,
   "metadata": {
    "collapsed": true
   },
   "outputs": [],
   "source": [
    "alfeat_dict = make_onehot_feat_dict(df_trainval, 'AIRLINE', 'al') "
   ]
  },
  {
   "cell_type": "markdown",
   "metadata": {},
   "source": [
    "### 5. Departure hour"
   ]
  },
  {
   "cell_type": "code",
   "execution_count": 18,
   "metadata": {
    "collapsed": true
   },
   "outputs": [],
   "source": [
    "# Add departure hour as a feature\n",
    "df_trainval['HOUR_DEPARTURE'] = np.floor(df_trainval['SCHEDULED_DEPARTURE'].values/100).astype(int)\n",
    "df_trainval['HOUR_ARRIVAL'] = np.floor(df_trainval['SCHEDULED_ARRIVAL'].values/100).astype(int)\n",
    "hrfeat_dict = make_onehot_feat_dict(df_trainval, 'HOUR_DEPARTURE', 'hr')"
   ]
  },
  {
   "cell_type": "markdown",
   "metadata": {},
   "source": [
    "# Save new feature matrix"
   ]
  },
  {
   "cell_type": "code",
   "execution_count": 19,
   "metadata": {
    "collapsed": false
   },
   "outputs": [],
   "source": [
    "all_dicts = [original_feat, daysfeat_dict, monthsfeat_dict, dapfeat_dict, alfeat_dict, hrfeat_dict]\n",
    "feat_dict = all_dicts[0].copy()\n",
    "for d in all_dicts[1:]:\n",
    "    feat_dict.update(d)"
   ]
  },
  {
   "cell_type": "code",
   "execution_count": 20,
   "metadata": {
    "collapsed": false
   },
   "outputs": [
    {
     "data": {
      "text/html": [
       "<div>\n",
       "<table border=\"1\" class=\"dataframe\">\n",
       "  <thead>\n",
       "    <tr style=\"text-align: right;\">\n",
       "      <th></th>\n",
       "      <th>f_al_AA</th>\n",
       "      <th>f_al_AS</th>\n",
       "      <th>f_al_B6</th>\n",
       "      <th>f_al_DL</th>\n",
       "      <th>f_al_EV</th>\n",
       "      <th>f_al_F9</th>\n",
       "      <th>f_al_HA</th>\n",
       "      <th>f_al_MQ</th>\n",
       "      <th>f_al_NK</th>\n",
       "      <th>f_al_OO</th>\n",
       "      <th>...</th>\n",
       "      <th>f_month_10</th>\n",
       "      <th>f_month_11</th>\n",
       "      <th>f_month_2</th>\n",
       "      <th>f_month_3</th>\n",
       "      <th>f_month_4</th>\n",
       "      <th>f_month_5</th>\n",
       "      <th>f_month_6</th>\n",
       "      <th>f_month_7</th>\n",
       "      <th>f_month_8</th>\n",
       "      <th>f_month_9</th>\n",
       "    </tr>\n",
       "  </thead>\n",
       "  <tbody>\n",
       "    <tr>\n",
       "      <th>0</th>\n",
       "      <td>False</td>\n",
       "      <td>False</td>\n",
       "      <td>False</td>\n",
       "      <td>False</td>\n",
       "      <td>False</td>\n",
       "      <td>False</td>\n",
       "      <td>False</td>\n",
       "      <td>False</td>\n",
       "      <td>False</td>\n",
       "      <td>False</td>\n",
       "      <td>...</td>\n",
       "      <td>False</td>\n",
       "      <td>False</td>\n",
       "      <td>False</td>\n",
       "      <td>False</td>\n",
       "      <td>False</td>\n",
       "      <td>False</td>\n",
       "      <td>False</td>\n",
       "      <td>False</td>\n",
       "      <td>True</td>\n",
       "      <td>False</td>\n",
       "    </tr>\n",
       "    <tr>\n",
       "      <th>1</th>\n",
       "      <td>False</td>\n",
       "      <td>True</td>\n",
       "      <td>False</td>\n",
       "      <td>False</td>\n",
       "      <td>False</td>\n",
       "      <td>False</td>\n",
       "      <td>False</td>\n",
       "      <td>False</td>\n",
       "      <td>False</td>\n",
       "      <td>False</td>\n",
       "      <td>...</td>\n",
       "      <td>False</td>\n",
       "      <td>False</td>\n",
       "      <td>False</td>\n",
       "      <td>False</td>\n",
       "      <td>False</td>\n",
       "      <td>False</td>\n",
       "      <td>False</td>\n",
       "      <td>False</td>\n",
       "      <td>False</td>\n",
       "      <td>False</td>\n",
       "    </tr>\n",
       "    <tr>\n",
       "      <th>2</th>\n",
       "      <td>False</td>\n",
       "      <td>False</td>\n",
       "      <td>False</td>\n",
       "      <td>False</td>\n",
       "      <td>False</td>\n",
       "      <td>False</td>\n",
       "      <td>False</td>\n",
       "      <td>False</td>\n",
       "      <td>False</td>\n",
       "      <td>False</td>\n",
       "      <td>...</td>\n",
       "      <td>False</td>\n",
       "      <td>False</td>\n",
       "      <td>False</td>\n",
       "      <td>False</td>\n",
       "      <td>False</td>\n",
       "      <td>False</td>\n",
       "      <td>False</td>\n",
       "      <td>False</td>\n",
       "      <td>False</td>\n",
       "      <td>False</td>\n",
       "    </tr>\n",
       "    <tr>\n",
       "      <th>3</th>\n",
       "      <td>False</td>\n",
       "      <td>False</td>\n",
       "      <td>False</td>\n",
       "      <td>False</td>\n",
       "      <td>False</td>\n",
       "      <td>False</td>\n",
       "      <td>False</td>\n",
       "      <td>False</td>\n",
       "      <td>False</td>\n",
       "      <td>False</td>\n",
       "      <td>...</td>\n",
       "      <td>False</td>\n",
       "      <td>False</td>\n",
       "      <td>False</td>\n",
       "      <td>False</td>\n",
       "      <td>False</td>\n",
       "      <td>True</td>\n",
       "      <td>False</td>\n",
       "      <td>False</td>\n",
       "      <td>False</td>\n",
       "      <td>False</td>\n",
       "    </tr>\n",
       "    <tr>\n",
       "      <th>4</th>\n",
       "      <td>False</td>\n",
       "      <td>False</td>\n",
       "      <td>False</td>\n",
       "      <td>False</td>\n",
       "      <td>True</td>\n",
       "      <td>False</td>\n",
       "      <td>False</td>\n",
       "      <td>False</td>\n",
       "      <td>False</td>\n",
       "      <td>False</td>\n",
       "      <td>...</td>\n",
       "      <td>False</td>\n",
       "      <td>False</td>\n",
       "      <td>False</td>\n",
       "      <td>False</td>\n",
       "      <td>False</td>\n",
       "      <td>False</td>\n",
       "      <td>True</td>\n",
       "      <td>False</td>\n",
       "      <td>False</td>\n",
       "      <td>False</td>\n",
       "    </tr>\n",
       "  </tbody>\n",
       "</table>\n",
       "<p>5 rows × 151 columns</p>\n",
       "</div>"
      ],
      "text/plain": [
       "  f_al_AA f_al_AS f_al_B6 f_al_DL f_al_EV f_al_F9 f_al_HA f_al_MQ f_al_NK  \\\n",
       "0   False   False   False   False   False   False   False   False   False   \n",
       "1   False    True   False   False   False   False   False   False   False   \n",
       "2   False   False   False   False   False   False   False   False   False   \n",
       "3   False   False   False   False   False   False   False   False   False   \n",
       "4   False   False   False   False    True   False   False   False   False   \n",
       "\n",
       "  f_al_OO    ...    f_month_10 f_month_11 f_month_2 f_month_3 f_month_4  \\\n",
       "0   False    ...         False      False     False     False     False   \n",
       "1   False    ...         False      False     False     False     False   \n",
       "2   False    ...         False      False     False     False     False   \n",
       "3   False    ...         False      False     False     False     False   \n",
       "4   False    ...         False      False     False     False     False   \n",
       "\n",
       "  f_month_5 f_month_6 f_month_7 f_month_8 f_month_9  \n",
       "0     False     False     False      True     False  \n",
       "1     False     False     False     False     False  \n",
       "2     False     False     False     False     False  \n",
       "3      True     False     False     False     False  \n",
       "4     False      True     False     False     False  \n",
       "\n",
       "[5 rows x 151 columns]"
      ]
     },
     "execution_count": 20,
     "metadata": {},
     "output_type": "execute_result"
    }
   ],
   "source": [
    "df_feat = pd.DataFrame.from_dict(feat_dict)\n",
    "df_feat.head()"
   ]
  },
  {
   "cell_type": "markdown",
   "metadata": {},
   "source": [
    "# Prepare for training linear model"
   ]
  },
  {
   "cell_type": "code",
   "execution_count": 21,
   "metadata": {
    "collapsed": true
   },
   "outputs": [],
   "source": [
    "# zscore all features\n",
    "from scipy.stats import zscore\n",
    "df_feat = df_feat.apply(zscore)"
   ]
  },
  {
   "cell_type": "code",
   "execution_count": 22,
   "metadata": {
    "collapsed": false
   },
   "outputs": [],
   "source": [
    "# Declare DFs\n",
    "X_train = df_feat.loc[:N_train-1].values\n",
    "X_val = df_feat.loc[N_train:].values"
   ]
  },
  {
   "cell_type": "code",
   "execution_count": 23,
   "metadata": {
    "collapsed": false
   },
   "outputs": [],
   "source": [
    "# Determine labels\n",
    "y_delay01 = y_delay > 10\n",
    "y_train = y_delay01[:N_train]\n",
    "y_val = y_delay01[N_train:]"
   ]
  },
  {
   "cell_type": "markdown",
   "metadata": {},
   "source": [
    "# Separate data for each airport"
   ]
  },
  {
   "cell_type": "markdown",
   "metadata": {},
   "source": [
    "# Train one model"
   ]
  },
  {
   "cell_type": "code",
   "execution_count": 24,
   "metadata": {
    "collapsed": false
   },
   "outputs": [
    {
     "data": {
      "text/plain": [
       "LogisticRegression(C=100, class_weight=None, dual=False, fit_intercept=True,\n",
       "          intercept_scaling=1, max_iter=100, multi_class='ovr', n_jobs=1,\n",
       "          penalty='l2', random_state=None, solver='liblinear', tol=0.0001,\n",
       "          verbose=0, warm_start=False)"
      ]
     },
     "execution_count": 24,
     "metadata": {},
     "output_type": "execute_result"
    }
   ],
   "source": [
    "C = 100\n",
    "model = LogisticRegression(C=C)\n",
    "#model = LogisticRegression(C=C,fit_intercept=False)\n",
    "#model = LogisticRegression(C=C,class_weight='balanced')\n",
    "model.fit(X_train, y_train)"
   ]
  },
  {
   "cell_type": "markdown",
   "metadata": {},
   "source": [
    "# Evaluate model"
   ]
  },
  {
   "cell_type": "code",
   "execution_count": 25,
   "metadata": {
    "collapsed": false
   },
   "outputs": [
    {
     "name": "stdout",
     "output_type": "stream",
     "text": [
      "0.780965714286\n",
      "1574\n",
      "0.779426666667\n",
      "607\n"
     ]
    }
   ],
   "source": [
    "preds_train = model.predict(X_train)\n",
    "preds_val = model.predict(X_val)\n",
    "print(model.score(X_train, y_train))\n",
    "print(sum(model.predict(X_train)))\n",
    "print(model.score(X_val, y_val))\n",
    "print(sum(model.predict(X_val)))"
   ]
  },
  {
   "cell_type": "code",
   "execution_count": 26,
   "metadata": {
    "collapsed": false
   },
   "outputs": [
    {
     "name": "stdout",
     "output_type": "stream",
     "text": [
      "[[545802    700]\n",
      " [152624    874]]\n"
     ]
    }
   ],
   "source": [
    "from sklearn.metrics import confusion_matrix\n",
    "cmat = confusion_matrix(y_train, preds_train)\n",
    "print(cmat)"
   ]
  },
  {
   "cell_type": "code",
   "execution_count": 27,
   "metadata": {
    "collapsed": false
   },
   "outputs": [
    {
     "name": "stdout",
     "output_type": "stream",
     "text": [
      "True negative rate: 0.00569388526235\n",
      "True positive rate: 0.998719126371\n"
     ]
    }
   ],
   "source": [
    "print('True negative rate:', cmat[1,1]/sum(cmat[1]))\n",
    "print('True positive rate:', cmat[0,0]/sum(cmat[0]))"
   ]
  },
  {
   "cell_type": "code",
   "execution_count": 28,
   "metadata": {
    "collapsed": false
   },
   "outputs": [
    {
     "name": "stdout",
     "output_type": "stream",
     "text": [
      "0.67153317139\n",
      "0.670907919017\n"
     ]
    },
    {
     "data": {
      "text/plain": [
       "(0, 1)"
      ]
     },
     "execution_count": 28,
     "metadata": {},
     "output_type": "execute_result"
    },
    {
     "data": {
      "image/png": "[encoded data removed]",
      "text/plain": [
       "<matplotlib.figure.Figure at 0x16c572198>"
      ]
     },
     "metadata": {
      "image/png": {
       "height": 360,
       "width": 377
      }
     },
     "output_type": "display_data"
    },
    {
     "data": {
      "image/png": "[encoded data removed]",
      "text/plain": [
       "<matplotlib.figure.Figure at 0x1491242b0>"
      ]
     },
     "metadata": {
      "image/png": {
       "height": 360,
       "width": 377
      }
     },
     "output_type": "display_data"
    }
   ],
   "source": [
    "from sklearn.metrics import roc_curve, roc_auc_score\n",
    "fpr, tpr, th = roc_curve(y_train, model.predict_proba(X_train)[:,1])\n",
    "print(roc_auc_score(y_train, model.predict_proba(X_train)[:,1]))\n",
    "\n",
    "plt.figure(figsize=(6,6))\n",
    "plt.plot(fpr,tpr,'r')\n",
    "plt.plot([0,1],[0,1],'k--')\n",
    "plt.xlim((0,1))\n",
    "plt.ylim((0,1))\n",
    "\n",
    "fpr, tpr, th = roc_curve(y_val, model.predict_proba(X_val)[:,1])\n",
    "print(roc_auc_score(y_val, model.predict_proba(X_val)[:,1]))\n",
    "\n",
    "plt.figure(figsize=(6,6))\n",
    "plt.plot(fpr,tpr,'r')\n",
    "plt.plot([0,1],[0,1],'k--')\n",
    "plt.xlim((0,1))\n",
    "plt.ylim((0,1))"
   ]
  },
  {
   "cell_type": "code",
   "execution_count": null,
   "metadata": {
    "collapsed": true
   },
   "outputs": [],
   "source": []
  }
 ],
 "metadata": {
  "anaconda-cloud": {},
  "kernelspec": {
   "display_name": "Python 3",
   "language": "python",
   "name": "python3"
  },
  "language_info": {
   "codemirror_mode": {
    "name": "ipython",
    "version": 3
   },
   "file_extension": ".py",
   "mimetype": "text/x-python",
   "name": "python",
   "nbconvert_exporter": "python",
   "pygments_lexer": "ipython3",
   "version": "3.6.0"
  }
 },
 "nbformat": 4,
 "nbformat_minor": 1
}
