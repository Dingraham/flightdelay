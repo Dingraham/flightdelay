{
 "cells": [
  {
   "cell_type": "markdown",
   "metadata": {},
   "source": [
    "# Predicting Flight Delay\n",
    "\n",
    "Problem Set-up:\n",
    "We define a delayed flight to be one that is delayed by >= 15 minutes. \n",
    "The prediction problem is to train a model that can classify flights, to predict if they will or will not be delayed.\n",
    "\n",
    "Use case:\n",
    "- The idea is that this model would be useful to choosing airlines, flightpaths, airports, at the time of booking, relatively in advance of the scheduled departure (days, weeks, months ahead of time). Therefore, the prediction problem will focus on features that can be known in advance, rather than predicting using day-off features like weather and previous flights from that day. \n",
    "\n",
    "Notes:\n",
    "- We restrict the analysis to relatively large airport, those with more than 20 (domestic) flights a day\n",
    "\n",
    "# This notebook: more features\n",
    "* one-hot day of week\n",
    "* one-hot month\n",
    "* one-hot airline\n",
    "* one-hot airport\n",
    "* one-hot departure hour\n",
    "\n",
    "# Create separate models to predict for each airport \n",
    "\n",
    "Motivation:\n",
    "The weights that should eb put on features (e.g. airlines) may differ depending on the airport (see e.g. NB 4B) since different airports can have different environments (e.g. San Diego and Chicago winters are very different; American Airlines is better in Tuscon than in Anchorage."
   ]
  },
  {
   "cell_type": "code",
   "execution_count": 23,
   "metadata": {
    "collapsed": true
   },
   "outputs": [],
   "source": [
    "# Imports\n",
    "%config InlineBackend.figure_format = 'retina'\n",
    "%matplotlib inline\n",
    "\n",
    "import numpy as np\n",
    "import scipy as sp\n",
    "import matplotlib.pyplot as plt\n",
    "import pandas as pd\n",
    "\n",
    "import seaborn as sns\n",
    "sns.set_style('white')\n",
    "\n",
    "from sklearn.linear_model import LogisticRegression\n",
    "from sklearn.metrics import roc_curve, roc_auc_score, confusion_matrix"
   ]
  },
  {
   "cell_type": "code",
   "execution_count": 24,
   "metadata": {
    "collapsed": false
   },
   "outputs": [],
   "source": [
    "# Import custom code\n",
    "from flightdelay.fld import io as flio"
   ]
  },
  {
   "cell_type": "markdown",
   "metadata": {},
   "source": [
    "# Load data"
   ]
  },
  {
   "cell_type": "code",
   "execution_count": 25,
   "metadata": {
    "collapsed": false
   },
   "outputs": [],
   "source": [
    "airlines_df, airports_df, flights_df = flio.load_data()"
   ]
  },
  {
   "cell_type": "code",
   "execution_count": 26,
   "metadata": {
    "collapsed": true
   },
   "outputs": [],
   "source": [
    "# Filter data to keys of interest\n",
    "keys = ['AIRLINE', 'FLIGHT_NUMBER','ORIGIN_AIRPORT','DEPARTURE_DELAY']\n",
    "flights_df = flights_df[keys]"
   ]
  },
  {
   "cell_type": "markdown",
   "metadata": {},
   "source": [
    "# Remove airports with less than a certain number of flights"
   ]
  },
  {
   "cell_type": "code",
   "execution_count": 27,
   "metadata": {
    "collapsed": false
   },
   "outputs": [],
   "source": [
    "all_airports, airport_inverse, airport_count = np.unique(flights_df['ORIGIN_AIRPORT'],return_counts=True,return_inverse=True)"
   ]
  },
  {
   "cell_type": "code",
   "execution_count": 28,
   "metadata": {
    "collapsed": false
   },
   "outputs": [],
   "source": [
    "# Determine number of flights for the origin airport\n",
    "Nflights_orig = np.zeros(len(airport_inverse))\n",
    "for i in range(len(all_airports)):\n",
    "    Nflights_orig[np.where(airport_inverse==i)] = airport_count[i]"
   ]
  },
  {
   "cell_type": "code",
   "execution_count": 29,
   "metadata": {
    "collapsed": true
   },
   "outputs": [],
   "source": [
    "flights_df = flights_df.loc[flights_df.index[Nflights_orig>=7300]]"
   ]
  },
  {
   "cell_type": "markdown",
   "metadata": {},
   "source": [
    "# Remove cancelled flights"
   ]
  },
  {
   "cell_type": "code",
   "execution_count": 30,
   "metadata": {
    "collapsed": false
   },
   "outputs": [],
   "source": [
    "flights_df = flights_df.dropna()"
   ]
  },
  {
   "cell_type": "code",
   "execution_count": 31,
   "metadata": {
    "collapsed": false,
    "scrolled": true
   },
   "outputs": [
    {
     "data": {
      "text/html": [
       "<div>\n",
       "<table border=\"1\" class=\"dataframe\">\n",
       "  <thead>\n",
       "    <tr style=\"text-align: right;\">\n",
       "      <th></th>\n",
       "      <th>AIRLINE</th>\n",
       "      <th>FLIGHT_NUMBER</th>\n",
       "      <th>ORIGIN_AIRPORT</th>\n",
       "      <th>DEPARTURE_DELAY</th>\n",
       "    </tr>\n",
       "  </thead>\n",
       "  <tbody>\n",
       "    <tr>\n",
       "      <th>0</th>\n",
       "      <td>AS</td>\n",
       "      <td>98</td>\n",
       "      <td>ANC</td>\n",
       "      <td>-11.0</td>\n",
       "    </tr>\n",
       "    <tr>\n",
       "      <th>1</th>\n",
       "      <td>AA</td>\n",
       "      <td>2336</td>\n",
       "      <td>LAX</td>\n",
       "      <td>-8.0</td>\n",
       "    </tr>\n",
       "    <tr>\n",
       "      <th>2</th>\n",
       "      <td>US</td>\n",
       "      <td>840</td>\n",
       "      <td>SFO</td>\n",
       "      <td>-2.0</td>\n",
       "    </tr>\n",
       "    <tr>\n",
       "      <th>3</th>\n",
       "      <td>AA</td>\n",
       "      <td>258</td>\n",
       "      <td>LAX</td>\n",
       "      <td>-5.0</td>\n",
       "    </tr>\n",
       "    <tr>\n",
       "      <th>4</th>\n",
       "      <td>AS</td>\n",
       "      <td>135</td>\n",
       "      <td>SEA</td>\n",
       "      <td>-1.0</td>\n",
       "    </tr>\n",
       "    <tr>\n",
       "      <th>5</th>\n",
       "      <td>DL</td>\n",
       "      <td>806</td>\n",
       "      <td>SFO</td>\n",
       "      <td>-5.0</td>\n",
       "    </tr>\n",
       "    <tr>\n",
       "      <th>6</th>\n",
       "      <td>NK</td>\n",
       "      <td>612</td>\n",
       "      <td>LAS</td>\n",
       "      <td>-6.0</td>\n",
       "    </tr>\n",
       "    <tr>\n",
       "      <th>7</th>\n",
       "      <td>US</td>\n",
       "      <td>2013</td>\n",
       "      <td>LAX</td>\n",
       "      <td>14.0</td>\n",
       "    </tr>\n",
       "    <tr>\n",
       "      <th>8</th>\n",
       "      <td>AA</td>\n",
       "      <td>1112</td>\n",
       "      <td>SFO</td>\n",
       "      <td>-11.0</td>\n",
       "    </tr>\n",
       "    <tr>\n",
       "      <th>9</th>\n",
       "      <td>DL</td>\n",
       "      <td>1173</td>\n",
       "      <td>LAS</td>\n",
       "      <td>3.0</td>\n",
       "    </tr>\n",
       "    <tr>\n",
       "      <th>10</th>\n",
       "      <td>DL</td>\n",
       "      <td>2336</td>\n",
       "      <td>DEN</td>\n",
       "      <td>-6.0</td>\n",
       "    </tr>\n",
       "    <tr>\n",
       "      <th>11</th>\n",
       "      <td>AA</td>\n",
       "      <td>1674</td>\n",
       "      <td>LAS</td>\n",
       "      <td>-8.0</td>\n",
       "    </tr>\n",
       "    <tr>\n",
       "      <th>12</th>\n",
       "      <td>DL</td>\n",
       "      <td>1434</td>\n",
       "      <td>LAX</td>\n",
       "      <td>0.0</td>\n",
       "    </tr>\n",
       "    <tr>\n",
       "      <th>13</th>\n",
       "      <td>DL</td>\n",
       "      <td>2324</td>\n",
       "      <td>SLC</td>\n",
       "      <td>-6.0</td>\n",
       "    </tr>\n",
       "    <tr>\n",
       "      <th>14</th>\n",
       "      <td>DL</td>\n",
       "      <td>2440</td>\n",
       "      <td>SEA</td>\n",
       "      <td>-1.0</td>\n",
       "    </tr>\n",
       "    <tr>\n",
       "      <th>15</th>\n",
       "      <td>AS</td>\n",
       "      <td>108</td>\n",
       "      <td>ANC</td>\n",
       "      <td>-4.0</td>\n",
       "    </tr>\n",
       "    <tr>\n",
       "      <th>16</th>\n",
       "      <td>DL</td>\n",
       "      <td>1560</td>\n",
       "      <td>ANC</td>\n",
       "      <td>-14.0</td>\n",
       "    </tr>\n",
       "    <tr>\n",
       "      <th>17</th>\n",
       "      <td>UA</td>\n",
       "      <td>1197</td>\n",
       "      <td>SFO</td>\n",
       "      <td>-6.0</td>\n",
       "    </tr>\n",
       "    <tr>\n",
       "      <th>18</th>\n",
       "      <td>AS</td>\n",
       "      <td>122</td>\n",
       "      <td>ANC</td>\n",
       "      <td>-4.0</td>\n",
       "    </tr>\n",
       "    <tr>\n",
       "      <th>19</th>\n",
       "      <td>DL</td>\n",
       "      <td>1670</td>\n",
       "      <td>PDX</td>\n",
       "      <td>-5.0</td>\n",
       "    </tr>\n",
       "    <tr>\n",
       "      <th>20</th>\n",
       "      <td>NK</td>\n",
       "      <td>520</td>\n",
       "      <td>LAS</td>\n",
       "      <td>25.0</td>\n",
       "    </tr>\n",
       "    <tr>\n",
       "      <th>21</th>\n",
       "      <td>AA</td>\n",
       "      <td>371</td>\n",
       "      <td>SEA</td>\n",
       "      <td>-8.0</td>\n",
       "    </tr>\n",
       "    <tr>\n",
       "      <th>22</th>\n",
       "      <td>NK</td>\n",
       "      <td>214</td>\n",
       "      <td>LAS</td>\n",
       "      <td>-1.0</td>\n",
       "    </tr>\n",
       "    <tr>\n",
       "      <th>23</th>\n",
       "      <td>AA</td>\n",
       "      <td>115</td>\n",
       "      <td>LAX</td>\n",
       "      <td>-2.0</td>\n",
       "    </tr>\n",
       "    <tr>\n",
       "      <th>24</th>\n",
       "      <td>DL</td>\n",
       "      <td>1450</td>\n",
       "      <td>LAS</td>\n",
       "      <td>-3.0</td>\n",
       "    </tr>\n",
       "    <tr>\n",
       "      <th>25</th>\n",
       "      <td>UA</td>\n",
       "      <td>1545</td>\n",
       "      <td>LAX</td>\n",
       "      <td>-3.0</td>\n",
       "    </tr>\n",
       "    <tr>\n",
       "      <th>27</th>\n",
       "      <td>NK</td>\n",
       "      <td>597</td>\n",
       "      <td>MSP</td>\n",
       "      <td>12.0</td>\n",
       "    </tr>\n",
       "    <tr>\n",
       "      <th>28</th>\n",
       "      <td>US</td>\n",
       "      <td>413</td>\n",
       "      <td>LAS</td>\n",
       "      <td>-10.0</td>\n",
       "    </tr>\n",
       "    <tr>\n",
       "      <th>29</th>\n",
       "      <td>AA</td>\n",
       "      <td>2392</td>\n",
       "      <td>DEN</td>\n",
       "      <td>21.0</td>\n",
       "    </tr>\n",
       "    <tr>\n",
       "      <th>30</th>\n",
       "      <td>NK</td>\n",
       "      <td>168</td>\n",
       "      <td>PHX</td>\n",
       "      <td>72.0</td>\n",
       "    </tr>\n",
       "    <tr>\n",
       "      <th>...</th>\n",
       "      <td>...</td>\n",
       "      <td>...</td>\n",
       "      <td>...</td>\n",
       "      <td>...</td>\n",
       "    </tr>\n",
       "    <tr>\n",
       "      <th>88</th>\n",
       "      <td>F9</td>\n",
       "      <td>1279</td>\n",
       "      <td>PHL</td>\n",
       "      <td>-4.0</td>\n",
       "    </tr>\n",
       "    <tr>\n",
       "      <th>89</th>\n",
       "      <td>NK</td>\n",
       "      <td>409</td>\n",
       "      <td>ORD</td>\n",
       "      <td>-4.0</td>\n",
       "    </tr>\n",
       "    <tr>\n",
       "      <th>92</th>\n",
       "      <td>UA</td>\n",
       "      <td>1532</td>\n",
       "      <td>SFO</td>\n",
       "      <td>19.0</td>\n",
       "    </tr>\n",
       "    <tr>\n",
       "      <th>93</th>\n",
       "      <td>UA</td>\n",
       "      <td>1167</td>\n",
       "      <td>ORD</td>\n",
       "      <td>7.0</td>\n",
       "    </tr>\n",
       "    <tr>\n",
       "      <th>94</th>\n",
       "      <td>UA</td>\n",
       "      <td>1012</td>\n",
       "      <td>IAD</td>\n",
       "      <td>6.0</td>\n",
       "    </tr>\n",
       "    <tr>\n",
       "      <th>95</th>\n",
       "      <td>B6</td>\n",
       "      <td>2001</td>\n",
       "      <td>BUF</td>\n",
       "      <td>-5.0</td>\n",
       "    </tr>\n",
       "    <tr>\n",
       "      <th>97</th>\n",
       "      <td>B6</td>\n",
       "      <td>2023</td>\n",
       "      <td>JFK</td>\n",
       "      <td>43.0</td>\n",
       "    </tr>\n",
       "    <tr>\n",
       "      <th>100</th>\n",
       "      <td>EV</td>\n",
       "      <td>5498</td>\n",
       "      <td>ORD</td>\n",
       "      <td>15.0</td>\n",
       "    </tr>\n",
       "    <tr>\n",
       "      <th>101</th>\n",
       "      <td>OO</td>\n",
       "      <td>6512</td>\n",
       "      <td>FAT</td>\n",
       "      <td>-5.0</td>\n",
       "    </tr>\n",
       "    <tr>\n",
       "      <th>102</th>\n",
       "      <td>UA</td>\n",
       "      <td>1577</td>\n",
       "      <td>SMF</td>\n",
       "      <td>56.0</td>\n",
       "    </tr>\n",
       "    <tr>\n",
       "      <th>103</th>\n",
       "      <td>OO</td>\n",
       "      <td>4986</td>\n",
       "      <td>AUS</td>\n",
       "      <td>-3.0</td>\n",
       "    </tr>\n",
       "    <tr>\n",
       "      <th>104</th>\n",
       "      <td>B6</td>\n",
       "      <td>727</td>\n",
       "      <td>BOS</td>\n",
       "      <td>-4.0</td>\n",
       "    </tr>\n",
       "    <tr>\n",
       "      <th>105</th>\n",
       "      <td>B6</td>\n",
       "      <td>1012</td>\n",
       "      <td>ORD</td>\n",
       "      <td>-11.0</td>\n",
       "    </tr>\n",
       "    <tr>\n",
       "      <th>106</th>\n",
       "      <td>DL</td>\n",
       "      <td>824</td>\n",
       "      <td>PHX</td>\n",
       "      <td>148.0</td>\n",
       "    </tr>\n",
       "    <tr>\n",
       "      <th>107</th>\n",
       "      <td>DL</td>\n",
       "      <td>941</td>\n",
       "      <td>MCI</td>\n",
       "      <td>6.0</td>\n",
       "    </tr>\n",
       "    <tr>\n",
       "      <th>108</th>\n",
       "      <td>DL</td>\n",
       "      <td>2079</td>\n",
       "      <td>BOS</td>\n",
       "      <td>-3.0</td>\n",
       "    </tr>\n",
       "    <tr>\n",
       "      <th>109</th>\n",
       "      <td>EV</td>\n",
       "      <td>3268</td>\n",
       "      <td>ATL</td>\n",
       "      <td>16.0</td>\n",
       "    </tr>\n",
       "    <tr>\n",
       "      <th>110</th>\n",
       "      <td>EV</td>\n",
       "      <td>4160</td>\n",
       "      <td>JAX</td>\n",
       "      <td>-9.0</td>\n",
       "    </tr>\n",
       "    <tr>\n",
       "      <th>112</th>\n",
       "      <td>OO</td>\n",
       "      <td>5184</td>\n",
       "      <td>SLC</td>\n",
       "      <td>-3.0</td>\n",
       "    </tr>\n",
       "    <tr>\n",
       "      <th>114</th>\n",
       "      <td>F9</td>\n",
       "      <td>161</td>\n",
       "      <td>MSN</td>\n",
       "      <td>-10.0</td>\n",
       "    </tr>\n",
       "    <tr>\n",
       "      <th>115</th>\n",
       "      <td>OO</td>\n",
       "      <td>4833</td>\n",
       "      <td>MKE</td>\n",
       "      <td>-2.0</td>\n",
       "    </tr>\n",
       "    <tr>\n",
       "      <th>116</th>\n",
       "      <td>UA</td>\n",
       "      <td>1119</td>\n",
       "      <td>GEG</td>\n",
       "      <td>-3.0</td>\n",
       "    </tr>\n",
       "    <tr>\n",
       "      <th>117</th>\n",
       "      <td>UA</td>\n",
       "      <td>1237</td>\n",
       "      <td>SEA</td>\n",
       "      <td>-4.0</td>\n",
       "    </tr>\n",
       "    <tr>\n",
       "      <th>118</th>\n",
       "      <td>UA</td>\n",
       "      <td>1540</td>\n",
       "      <td>DCA</td>\n",
       "      <td>5.0</td>\n",
       "    </tr>\n",
       "    <tr>\n",
       "      <th>119</th>\n",
       "      <td>AA</td>\n",
       "      <td>1433</td>\n",
       "      <td>SAT</td>\n",
       "      <td>-6.0</td>\n",
       "    </tr>\n",
       "    <tr>\n",
       "      <th>120</th>\n",
       "      <td>AA</td>\n",
       "      <td>2299</td>\n",
       "      <td>JFK</td>\n",
       "      <td>55.0</td>\n",
       "    </tr>\n",
       "    <tr>\n",
       "      <th>121</th>\n",
       "      <td>B6</td>\n",
       "      <td>721</td>\n",
       "      <td>BOS</td>\n",
       "      <td>6.0</td>\n",
       "    </tr>\n",
       "    <tr>\n",
       "      <th>122</th>\n",
       "      <td>B6</td>\n",
       "      <td>917</td>\n",
       "      <td>BOS</td>\n",
       "      <td>-2.0</td>\n",
       "    </tr>\n",
       "    <tr>\n",
       "      <th>123</th>\n",
       "      <td>B6</td>\n",
       "      <td>939</td>\n",
       "      <td>JFK</td>\n",
       "      <td>0.0</td>\n",
       "    </tr>\n",
       "    <tr>\n",
       "      <th>124</th>\n",
       "      <td>DL</td>\n",
       "      <td>1890</td>\n",
       "      <td>DFW</td>\n",
       "      <td>18.0</td>\n",
       "    </tr>\n",
       "  </tbody>\n",
       "</table>\n",
       "<p>100 rows × 4 columns</p>\n",
       "</div>"
      ],
      "text/plain": [
       "    AIRLINE  FLIGHT_NUMBER ORIGIN_AIRPORT  DEPARTURE_DELAY\n",
       "0        AS             98            ANC            -11.0\n",
       "1        AA           2336            LAX             -8.0\n",
       "2        US            840            SFO             -2.0\n",
       "3        AA            258            LAX             -5.0\n",
       "4        AS            135            SEA             -1.0\n",
       "5        DL            806            SFO             -5.0\n",
       "6        NK            612            LAS             -6.0\n",
       "7        US           2013            LAX             14.0\n",
       "8        AA           1112            SFO            -11.0\n",
       "9        DL           1173            LAS              3.0\n",
       "10       DL           2336            DEN             -6.0\n",
       "11       AA           1674            LAS             -8.0\n",
       "12       DL           1434            LAX              0.0\n",
       "13       DL           2324            SLC             -6.0\n",
       "14       DL           2440            SEA             -1.0\n",
       "15       AS            108            ANC             -4.0\n",
       "16       DL           1560            ANC            -14.0\n",
       "17       UA           1197            SFO             -6.0\n",
       "18       AS            122            ANC             -4.0\n",
       "19       DL           1670            PDX             -5.0\n",
       "20       NK            520            LAS             25.0\n",
       "21       AA            371            SEA             -8.0\n",
       "22       NK            214            LAS             -1.0\n",
       "23       AA            115            LAX             -2.0\n",
       "24       DL           1450            LAS             -3.0\n",
       "25       UA           1545            LAX             -3.0\n",
       "27       NK            597            MSP             12.0\n",
       "28       US            413            LAS            -10.0\n",
       "29       AA           2392            DEN             21.0\n",
       "30       NK            168            PHX             72.0\n",
       "..      ...            ...            ...              ...\n",
       "88       F9           1279            PHL             -4.0\n",
       "89       NK            409            ORD             -4.0\n",
       "92       UA           1532            SFO             19.0\n",
       "93       UA           1167            ORD              7.0\n",
       "94       UA           1012            IAD              6.0\n",
       "95       B6           2001            BUF             -5.0\n",
       "97       B6           2023            JFK             43.0\n",
       "100      EV           5498            ORD             15.0\n",
       "101      OO           6512            FAT             -5.0\n",
       "102      UA           1577            SMF             56.0\n",
       "103      OO           4986            AUS             -3.0\n",
       "104      B6            727            BOS             -4.0\n",
       "105      B6           1012            ORD            -11.0\n",
       "106      DL            824            PHX            148.0\n",
       "107      DL            941            MCI              6.0\n",
       "108      DL           2079            BOS             -3.0\n",
       "109      EV           3268            ATL             16.0\n",
       "110      EV           4160            JAX             -9.0\n",
       "112      OO           5184            SLC             -3.0\n",
       "114      F9            161            MSN            -10.0\n",
       "115      OO           4833            MKE             -2.0\n",
       "116      UA           1119            GEG             -3.0\n",
       "117      UA           1237            SEA             -4.0\n",
       "118      UA           1540            DCA              5.0\n",
       "119      AA           1433            SAT             -6.0\n",
       "120      AA           2299            JFK             55.0\n",
       "121      B6            721            BOS              6.0\n",
       "122      B6            917            BOS             -2.0\n",
       "123      B6            939            JFK              0.0\n",
       "124      DL           1890            DFW             18.0\n",
       "\n",
       "[100 rows x 4 columns]"
      ]
     },
     "execution_count": 31,
     "metadata": {},
     "output_type": "execute_result"
    }
   ],
   "source": [
    "flights_df.head(100)"
   ]
  },
  {
   "cell_type": "markdown",
   "metadata": {},
   "source": [
    "# Make unique identifier for each flight"
   ]
  },
  {
   "cell_type": "code",
   "execution_count": 32,
   "metadata": {
    "collapsed": false
   },
   "outputs": [],
   "source": [
    "flights_df['FLIGHT_NUMBER'] = flights_df['FLIGHT_NUMBER'].astype(str)\n",
    "flnums = flights_df[['ORIGIN_AIRPORT','AIRLINE','FLIGHT_NUMBER']].fillna('').sum(axis=1)\n",
    "delays = flights_df['DEPARTURE_DELAY'].values > 15"
   ]
  },
  {
   "cell_type": "code",
   "execution_count": 33,
   "metadata": {
    "collapsed": true
   },
   "outputs": [],
   "source": [
    "unique_flnum, flnum_idx = np.unique(flnums,return_inverse=True)"
   ]
  },
  {
   "cell_type": "code",
   "execution_count": 34,
   "metadata": {
    "collapsed": false
   },
   "outputs": [],
   "source": [
    "N_uniqueflnum = len(unique_flnum)\n",
    "uniquefl_idxs = [0]*N_uniqueflnum\n",
    "uniquefl_delayp = [0]*N_uniqueflnum\n",
    "for i in range(N_uniqueflnum):\n",
    "    uniquefl_delayp[i] = np.mean(delays[flnum_idx==i])"
   ]
  },
  {
   "cell_type": "markdown",
   "metadata": {},
   "source": [
    "# Make train and val set"
   ]
  },
  {
   "cell_type": "code",
   "execution_count": 35,
   "metadata": {
    "collapsed": false
   },
   "outputs": [],
   "source": [
    "N_flights = len(flnums)\n",
    "N_train = int(N_flights*.7)\n",
    "\n",
    "np.random.seed(0)\n",
    "flight_take_idx = np.random.permutation(np.arange(N_flights))\n",
    "\n",
    "flnums_train = flnums[flight_take_idx[:N_train]].values\n",
    "flnums_val = flnums[flight_take_idx[N_train:]].values"
   ]
  },
  {
   "cell_type": "code",
   "execution_count": 36,
   "metadata": {
    "collapsed": true
   },
   "outputs": [],
   "source": [
    "y_train = delays[flight_take_idx[:N_train]]\n",
    "y_val = delays[flight_take_idx[N_train:]]"
   ]
  },
  {
   "cell_type": "markdown",
   "metadata": {},
   "source": [
    "# Make dict for prediction"
   ]
  },
  {
   "cell_type": "code",
   "execution_count": 37,
   "metadata": {
    "collapsed": false
   },
   "outputs": [],
   "source": [
    "from collections import defaultdict\n",
    "flnum_pred_dict = defaultdict(bool,zip(unique_flnum,np.array(uniquefl_delayp)>.5))\n",
    "#flnum_pred_dict6 = defaultdict(bool,zip(unique_flnum,np.array(uniquefl_delayp)>.9))"
   ]
  },
  {
   "cell_type": "code",
   "execution_count": 43,
   "metadata": {
    "collapsed": false
   },
   "outputs": [
    {
     "name": "stdout",
     "output_type": "stream",
     "text": [
      "ABQAA1024 0.27380952381\n"
     ]
    }
   ],
   "source": [
    "print(unique_flnum[0],uniquefl_delayp[0])"
   ]
  },
  {
   "cell_type": "markdown",
   "metadata": {},
   "source": [
    "# Predict delay in validation set"
   ]
  },
  {
   "cell_type": "code",
   "execution_count": 17,
   "metadata": {
    "collapsed": false
   },
   "outputs": [],
   "source": [
    "N_val = len(y_val)\n",
    "val_pred = [0]*N_val\n",
    "for i in range(N_val):\n",
    "    val_pred[i] = flnum_pred_dict[flnums_val[i]]"
   ]
  },
  {
   "cell_type": "code",
   "execution_count": 18,
   "metadata": {
    "collapsed": false
   },
   "outputs": [
    {
     "data": {
      "text/plain": [
       "array([[1274510,   19509],\n",
       "       [ 280937,    5025]])"
      ]
     },
     "execution_count": 18,
     "metadata": {},
     "output_type": "execute_result"
    }
   ],
   "source": [
    "confusion_matrix(y_val, val_pred)"
   ]
  },
  {
   "cell_type": "code",
   "execution_count": 19,
   "metadata": {
    "collapsed": false,
    "scrolled": true
   },
   "outputs": [
    {
     "name": "stderr",
     "output_type": "stream",
     "text": [
      "/Users/scott/anaconda/lib/python3.6/site-packages/ipykernel/__main__.py:1: DeprecationWarning: numpy boolean subtract, the `-` operator, is deprecated, use the bitwise_xor, the `^` operator, or the logical_xor function instead.\n",
      "  if __name__ == '__main__':\n"
     ]
    },
    {
     "name": "stdout",
     "output_type": "stream",
     "text": [
      "accuracy: 0.809842017088\n"
     ]
    }
   ],
   "source": [
    "print('accuracy:',1-sum(abs(val_pred-y_val))/N_val)"
   ]
  },
  {
   "cell_type": "code",
   "execution_count": 22,
   "metadata": {
    "collapsed": false
   },
   "outputs": [
    {
     "name": "stdout",
     "output_type": "stream",
     "text": [
      "0.504904675796\n"
     ]
    },
    {
     "data": {
      "text/plain": [
       "(0, 1)"
      ]
     },
     "execution_count": 22,
     "metadata": {},
     "output_type": "execute_result"
    },
    {
     "data": {
      "image/png": "[encoded data removed]",
      "text/plain": [
       "<matplotlib.figure.Figure at 0x139c589e8>"
      ]
     },
     "metadata": {
      "image/png": {
       "height": 360,
       "width": 377
      }
     },
     "output_type": "display_data"
    }
   ],
   "source": [
    "flnum_predp_dict = defaultdict(bool,zip(unique_flnum,uniquefl_delayp))\n",
    "val_predp = [0]*N_val\n",
    "for i in range(N_val):\n",
    "    val_predp[i] = flnum_predp_dict[flnums_val[i]]\n",
    "\n",
    "fpr, tpr, th = roc_curve(y_val, val_predp)\n",
    "print(roc_auc_score(y_val, val_predp))\n",
    "\n",
    "plt.figure(figsize=(6,6))\n",
    "plt.plot(fpr,tpr,'r')\n",
    "plt.plot([0,1],[0,1],'k--')\n",
    "plt.xlim((0,1))\n",
    "plt.ylim((0,1))"
   ]
  },
  {
   "cell_type": "code",
   "execution_count": null,
   "metadata": {
    "collapsed": true
   },
   "outputs": [],
   "source": []
  }
 ],
 "metadata": {
  "anaconda-cloud": {},
  "kernelspec": {
   "display_name": "Python 3",
   "language": "python",
   "name": "python3"
  },
  "language_info": {
   "codemirror_mode": {
    "name": "ipython",
    "version": 3
   },
   "file_extension": ".py",
   "mimetype": "text/x-python",
   "name": "python",
   "nbconvert_exporter": "python",
   "pygments_lexer": "ipython3",
   "version": "3.6.0"
  }
 },
 "nbformat": 4,
 "nbformat_minor": 1
}
