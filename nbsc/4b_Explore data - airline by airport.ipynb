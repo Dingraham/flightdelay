{
 "cells": [
  {
   "cell_type": "markdown",
   "metadata": {},
   "source": [
    "# Delay by airline consistency across airports:\n",
    "### Should we have separate models for each airport?"
   ]
  },
  {
   "cell_type": "code",
   "execution_count": 1,
   "metadata": {
    "collapsed": true
   },
   "outputs": [],
   "source": [
    "%config InlineBackend.figure_format = 'retina'\n",
    "%matplotlib inline\n",
    "\n",
    "import numpy as np\n",
    "import scipy as sp\n",
    "import matplotlib.pyplot as plt\n",
    "import pandas as pd\n",
    "\n",
    "import seaborn as sns\n",
    "sns.set_style('white')"
   ]
  },
  {
   "cell_type": "code",
   "execution_count": 2,
   "metadata": {
    "collapsed": true
   },
   "outputs": [],
   "source": [
    "import util"
   ]
  },
  {
   "cell_type": "code",
   "execution_count": 3,
   "metadata": {
    "collapsed": false
   },
   "outputs": [
    {
     "data": {
      "text/plain": [
       "<module 'util' from '/gh/flightdelay/nbsc/util.py'>"
      ]
     },
     "execution_count": 3,
     "metadata": {},
     "output_type": "execute_result"
    }
   ],
   "source": [
    "import imp\n",
    "imp.reload(util)"
   ]
  },
  {
   "cell_type": "markdown",
   "metadata": {},
   "source": [
    "# Load data"
   ]
  },
  {
   "cell_type": "code",
   "execution_count": 5,
   "metadata": {
    "collapsed": false
   },
   "outputs": [],
   "source": [
    "df_al, df_ap, df_fl = util.load_data()"
   ]
  },
  {
   "cell_type": "code",
   "execution_count": null,
   "metadata": {
    "collapsed": true
   },
   "outputs": [],
   "source": [
    "df_fl = df_fl[['ORIGIN_AIRPORT','AIRLINE','DEPARTURE_DELAY']]"
   ]
  },
  {
   "cell_type": "code",
   "execution_count": 6,
   "metadata": {
    "collapsed": false
   },
   "outputs": [],
   "source": [
    "# Remove cancelled flights\n",
    "df_fl = df_fl[np.isfinite(df_fl['DEPARTURE_DELAY'])]"
   ]
  },
  {
   "cell_type": "markdown",
   "metadata": {},
   "source": [
    "# Separate flights by airport"
   ]
  },
  {
   "cell_type": "code",
   "execution_count": 7,
   "metadata": {
    "collapsed": false
   },
   "outputs": [],
   "source": [
    "df_fl_byap = df_fl.groupby(['ORIGIN_AIRPORT','AIRLINE'])"
   ]
  },
  {
   "cell_type": "code",
   "execution_count": 8,
   "metadata": {
    "collapsed": false
   },
   "outputs": [],
   "source": [
    "df_fl_byap_mean = df_fl_byap.apply(np.mean)"
   ]
  },
  {
   "cell_type": "code",
   "execution_count": 14,
   "metadata": {
    "collapsed": false
   },
   "outputs": [
    {
     "data": {
      "text/html": [
       "<div>\n",
       "<table border=\"1\" class=\"dataframe\">\n",
       "  <thead>\n",
       "    <tr style=\"text-align: right;\">\n",
       "      <th></th>\n",
       "      <th></th>\n",
       "      <th>Unnamed: 0</th>\n",
       "      <th>Unnamed: 0.1</th>\n",
       "      <th>YEAR</th>\n",
       "      <th>MONTH</th>\n",
       "      <th>DAY</th>\n",
       "      <th>DAY_OF_WEEK</th>\n",
       "      <th>FLIGHT_NUMBER</th>\n",
       "      <th>SCHEDULED_DEPARTURE</th>\n",
       "      <th>DEPARTURE_TIME</th>\n",
       "      <th>DEPARTURE_DELAY</th>\n",
       "      <th>...</th>\n",
       "      <th>SCHEDULED_ARRIVAL</th>\n",
       "      <th>ARRIVAL_TIME</th>\n",
       "      <th>ARRIVAL_DELAY</th>\n",
       "      <th>DIVERTED</th>\n",
       "      <th>CANCELLED</th>\n",
       "      <th>AIR_SYSTEM_DELAY</th>\n",
       "      <th>SECURITY_DELAY</th>\n",
       "      <th>AIRLINE_DELAY</th>\n",
       "      <th>LATE_AIRCRAFT_DELAY</th>\n",
       "      <th>WEATHER_DELAY</th>\n",
       "    </tr>\n",
       "    <tr>\n",
       "      <th>ORIGIN_AIRPORT</th>\n",
       "      <th>AIRLINE</th>\n",
       "      <th></th>\n",
       "      <th></th>\n",
       "      <th></th>\n",
       "      <th></th>\n",
       "      <th></th>\n",
       "      <th></th>\n",
       "      <th></th>\n",
       "      <th></th>\n",
       "      <th></th>\n",
       "      <th></th>\n",
       "      <th></th>\n",
       "      <th></th>\n",
       "      <th></th>\n",
       "      <th></th>\n",
       "      <th></th>\n",
       "      <th></th>\n",
       "      <th></th>\n",
       "      <th></th>\n",
       "      <th></th>\n",
       "      <th></th>\n",
       "      <th></th>\n",
       "    </tr>\n",
       "  </thead>\n",
       "  <tbody>\n",
       "    <tr>\n",
       "      <th rowspan=\"3\" valign=\"top\">ABE</th>\n",
       "      <th>DL</th>\n",
       "      <td>2.937926e+06</td>\n",
       "      <td>2.937926e+06</td>\n",
       "      <td>2015.0</td>\n",
       "      <td>6.601770</td>\n",
       "      <td>15.495575</td>\n",
       "      <td>3.917404</td>\n",
       "      <td>2211.274336</td>\n",
       "      <td>631.660767</td>\n",
       "      <td>629.536873</td>\n",
       "      <td>2.831858</td>\n",
       "      <td>...</td>\n",
       "      <td>846.634218</td>\n",
       "      <td>838.525074</td>\n",
       "      <td>-2.563422</td>\n",
       "      <td>0.000000</td>\n",
       "      <td>0.000000</td>\n",
       "      <td>20.787879</td>\n",
       "      <td>0.000000</td>\n",
       "      <td>33.060606</td>\n",
       "      <td>0.000000</td>\n",
       "      <td>3.545455</td>\n",
       "    </tr>\n",
       "    <tr>\n",
       "      <th>EV</th>\n",
       "      <td>3.019605e+06</td>\n",
       "      <td>3.019605e+06</td>\n",
       "      <td>2015.0</td>\n",
       "      <td>6.746763</td>\n",
       "      <td>15.768345</td>\n",
       "      <td>3.741487</td>\n",
       "      <td>5354.864269</td>\n",
       "      <td>1221.510791</td>\n",
       "      <td>1224.690647</td>\n",
       "      <td>10.009592</td>\n",
       "      <td>...</td>\n",
       "      <td>1381.110791</td>\n",
       "      <td>1390.835334</td>\n",
       "      <td>7.636495</td>\n",
       "      <td>0.003357</td>\n",
       "      <td>0.000480</td>\n",
       "      <td>17.774684</td>\n",
       "      <td>0.000000</td>\n",
       "      <td>22.207595</td>\n",
       "      <td>30.220253</td>\n",
       "      <td>0.600000</td>\n",
       "    </tr>\n",
       "    <tr>\n",
       "      <th>OO</th>\n",
       "      <td>1.670404e+06</td>\n",
       "      <td>1.670404e+06</td>\n",
       "      <td>2015.0</td>\n",
       "      <td>4.058824</td>\n",
       "      <td>15.470588</td>\n",
       "      <td>4.117647</td>\n",
       "      <td>4648.470588</td>\n",
       "      <td>1596.078431</td>\n",
       "      <td>1573.862745</td>\n",
       "      <td>3.666667</td>\n",
       "      <td>...</td>\n",
       "      <td>1803.725490</td>\n",
       "      <td>1812.647059</td>\n",
       "      <td>9.900000</td>\n",
       "      <td>0.019608</td>\n",
       "      <td>0.000000</td>\n",
       "      <td>13.357143</td>\n",
       "      <td>0.000000</td>\n",
       "      <td>0.857143</td>\n",
       "      <td>21.500000</td>\n",
       "      <td>0.071429</td>\n",
       "    </tr>\n",
       "    <tr>\n",
       "      <th>ABI</th>\n",
       "      <th>MQ</th>\n",
       "      <td>2.839511e+06</td>\n",
       "      <td>2.839511e+06</td>\n",
       "      <td>2015.0</td>\n",
       "      <td>6.388066</td>\n",
       "      <td>15.625103</td>\n",
       "      <td>3.926337</td>\n",
       "      <td>3301.249794</td>\n",
       "      <td>1094.657613</td>\n",
       "      <td>1103.250617</td>\n",
       "      <td>5.646502</td>\n",
       "      <td>...</td>\n",
       "      <td>1191.491770</td>\n",
       "      <td>1192.409316</td>\n",
       "      <td>2.536938</td>\n",
       "      <td>0.001235</td>\n",
       "      <td>0.001646</td>\n",
       "      <td>11.589474</td>\n",
       "      <td>0.121053</td>\n",
       "      <td>24.181579</td>\n",
       "      <td>19.784211</td>\n",
       "      <td>13.697368</td>\n",
       "    </tr>\n",
       "    <tr>\n",
       "      <th>ABQ</th>\n",
       "      <th>AA</th>\n",
       "      <td>2.995470e+06</td>\n",
       "      <td>2.995470e+06</td>\n",
       "      <td>2015.0</td>\n",
       "      <td>6.704681</td>\n",
       "      <td>15.624502</td>\n",
       "      <td>3.979582</td>\n",
       "      <td>1525.617032</td>\n",
       "      <td>1096.636952</td>\n",
       "      <td>1101.768924</td>\n",
       "      <td>8.359064</td>\n",
       "      <td>...</td>\n",
       "      <td>1376.980578</td>\n",
       "      <td>1377.565586</td>\n",
       "      <td>6.535500</td>\n",
       "      <td>0.002490</td>\n",
       "      <td>0.001494</td>\n",
       "      <td>13.597484</td>\n",
       "      <td>0.000000</td>\n",
       "      <td>36.386792</td>\n",
       "      <td>23.949686</td>\n",
       "      <td>6.540881</td>\n",
       "    </tr>\n",
       "  </tbody>\n",
       "</table>\n",
       "<p>5 rows × 28 columns</p>\n",
       "</div>"
      ],
      "text/plain": [
       "                          Unnamed: 0  Unnamed: 0.1    YEAR     MONTH  \\\n",
       "ORIGIN_AIRPORT AIRLINE                                                 \n",
       "ABE            DL       2.937926e+06  2.937926e+06  2015.0  6.601770   \n",
       "               EV       3.019605e+06  3.019605e+06  2015.0  6.746763   \n",
       "               OO       1.670404e+06  1.670404e+06  2015.0  4.058824   \n",
       "ABI            MQ       2.839511e+06  2.839511e+06  2015.0  6.388066   \n",
       "ABQ            AA       2.995470e+06  2.995470e+06  2015.0  6.704681   \n",
       "\n",
       "                              DAY  DAY_OF_WEEK  FLIGHT_NUMBER  \\\n",
       "ORIGIN_AIRPORT AIRLINE                                          \n",
       "ABE            DL       15.495575     3.917404    2211.274336   \n",
       "               EV       15.768345     3.741487    5354.864269   \n",
       "               OO       15.470588     4.117647    4648.470588   \n",
       "ABI            MQ       15.625103     3.926337    3301.249794   \n",
       "ABQ            AA       15.624502     3.979582    1525.617032   \n",
       "\n",
       "                        SCHEDULED_DEPARTURE  DEPARTURE_TIME  DEPARTURE_DELAY  \\\n",
       "ORIGIN_AIRPORT AIRLINE                                                         \n",
       "ABE            DL                631.660767      629.536873         2.831858   \n",
       "               EV               1221.510791     1224.690647        10.009592   \n",
       "               OO               1596.078431     1573.862745         3.666667   \n",
       "ABI            MQ               1094.657613     1103.250617         5.646502   \n",
       "ABQ            AA               1096.636952     1101.768924         8.359064   \n",
       "\n",
       "                            ...        SCHEDULED_ARRIVAL  ARRIVAL_TIME  \\\n",
       "ORIGIN_AIRPORT AIRLINE      ...                                          \n",
       "ABE            DL           ...               846.634218    838.525074   \n",
       "               EV           ...              1381.110791   1390.835334   \n",
       "               OO           ...              1803.725490   1812.647059   \n",
       "ABI            MQ           ...              1191.491770   1192.409316   \n",
       "ABQ            AA           ...              1376.980578   1377.565586   \n",
       "\n",
       "                        ARRIVAL_DELAY  DIVERTED  CANCELLED  AIR_SYSTEM_DELAY  \\\n",
       "ORIGIN_AIRPORT AIRLINE                                                         \n",
       "ABE            DL           -2.563422  0.000000   0.000000         20.787879   \n",
       "               EV            7.636495  0.003357   0.000480         17.774684   \n",
       "               OO            9.900000  0.019608   0.000000         13.357143   \n",
       "ABI            MQ            2.536938  0.001235   0.001646         11.589474   \n",
       "ABQ            AA            6.535500  0.002490   0.001494         13.597484   \n",
       "\n",
       "                        SECURITY_DELAY  AIRLINE_DELAY  LATE_AIRCRAFT_DELAY  \\\n",
       "ORIGIN_AIRPORT AIRLINE                                                       \n",
       "ABE            DL             0.000000      33.060606             0.000000   \n",
       "               EV             0.000000      22.207595            30.220253   \n",
       "               OO             0.000000       0.857143            21.500000   \n",
       "ABI            MQ             0.121053      24.181579            19.784211   \n",
       "ABQ            AA             0.000000      36.386792            23.949686   \n",
       "\n",
       "                        WEATHER_DELAY  \n",
       "ORIGIN_AIRPORT AIRLINE                 \n",
       "ABE            DL            3.545455  \n",
       "               EV            0.600000  \n",
       "               OO            0.071429  \n",
       "ABI            MQ           13.697368  \n",
       "ABQ            AA            6.540881  \n",
       "\n",
       "[5 rows x 28 columns]"
      ]
     },
     "execution_count": 14,
     "metadata": {},
     "output_type": "execute_result"
    }
   ],
   "source": [
    "df_fl_byap_mean.head()"
   ]
  },
  {
   "cell_type": "markdown",
   "metadata": {},
   "source": [
    "# Plot Delay by airline for a few airports"
   ]
  },
  {
   "cell_type": "code",
   "execution_count": 29,
   "metadata": {
    "collapsed": false,
    "scrolled": true
   },
   "outputs": [
    {
     "data": {
      "text/plain": [
       "ORIGIN_AIRPORT  AIRLINE\n",
       "ABE             DL          2.831858\n",
       "                EV         10.009592\n",
       "                OO          3.666667\n",
       "ABI             MQ          5.646502\n",
       "ABQ             AA          8.359064\n",
       "                AS         -6.709589\n",
       "                B6         16.130435\n",
       "                DL          4.623293\n",
       "                EV          5.909756\n",
       "                MQ         11.933981\n",
       "                OO          4.518698\n",
       "                UA         10.743304\n",
       "                US          2.187500\n",
       "                WN         10.536032\n",
       "ABR             OO          9.281037\n",
       "ABY             EV          8.860587\n",
       "ACK             B6         16.741245\n",
       "ACT             EV          6.324464\n",
       "                MQ          7.276392\n",
       "ACV             OO         12.035997\n",
       "ACY             NK          9.291347\n",
       "ADK             AS         11.295918\n",
       "ADQ             AS          0.268817\n",
       "AEX             EV          7.906062\n",
       "                MQ         10.852768\n",
       "AGS             DL          5.888889\n",
       "                EV          8.612691\n",
       "                OO         -0.818182\n",
       "                UA         14.000000\n",
       "AKN             AS          2.682540\n",
       "                             ...    \n",
       "TVC             DL          1.646930\n",
       "                EV          7.383772\n",
       "                MQ          4.620297\n",
       "                OO          4.866485\n",
       "TWF             OO         -0.895973\n",
       "TXK             EV          4.990584\n",
       "                MQ          5.866242\n",
       "TYR             EV          4.476346\n",
       "                MQ         12.675214\n",
       "TYS             DL          4.527154\n",
       "                EV         10.249106\n",
       "                F9          8.586207\n",
       "                MQ         15.600950\n",
       "                OO         23.696203\n",
       "UST             F9         15.000000\n",
       "VEL             OO         -3.740000\n",
       "VLD             EV          7.293596\n",
       "VPS             DL          6.454545\n",
       "                EV         10.218287\n",
       "                MQ         13.362500\n",
       "                OO         13.781250\n",
       "WRG             AS          3.544180\n",
       "WYS             OO          1.375000\n",
       "XNA             AA         -7.055556\n",
       "                DL          3.096990\n",
       "                EV          9.393676\n",
       "                MQ         14.425851\n",
       "                OO          8.249294\n",
       "YAK             AS         -6.070932\n",
       "YUM             OO          1.129000\n",
       "Name: DEPARTURE_DELAY, dtype: float64"
      ]
     },
     "execution_count": 29,
     "metadata": {},
     "output_type": "execute_result"
    }
   ],
   "source": [
    "df_fl_byap_mean"
   ]
  },
  {
   "cell_type": "code",
   "execution_count": 12,
   "metadata": {
    "collapsed": false,
    "scrolled": true
   },
   "outputs": [
    {
     "data": {
      "text/plain": [
       "AIRLINE\n",
       "AA     5.890003\n",
       "AS    -1.455405\n",
       "B6    13.685063\n",
       "DL     2.752950\n",
       "F9     3.222615\n",
       "HA     3.756164\n",
       "NK     7.497998\n",
       "OO     6.281919\n",
       "UA    10.266905\n",
       "US     3.031690\n",
       "VX    11.368559\n",
       "WN    10.818552\n",
       "Name: DEPARTURE_DELAY, dtype: float64"
      ]
     },
     "execution_count": 12,
     "metadata": {},
     "output_type": "execute_result"
    }
   ],
   "source": [
    "df_fl_byap_mean.loc['SAN']['DEPARTURE_DELAY']"
   ]
  },
  {
   "cell_type": "code",
   "execution_count": 19,
   "metadata": {
    "collapsed": false
   },
   "outputs": [],
   "source": [
    "# Unique airports (consistent with df_ap)\n",
    "all_airports = df_fl_byap_mean.index.levels[0]\n",
    "# Unique airlines (consistent with df_al)\n",
    "all_airlines = df_fl_byap_mean.index.levels[1]"
   ]
  },
  {
   "cell_type": "code",
   "execution_count": 27,
   "metadata": {
    "collapsed": false
   },
   "outputs": [
    {
     "data": {
      "text/plain": [
       "5.890002784739627"
      ]
     },
     "execution_count": 27,
     "metadata": {},
     "output_type": "execute_result"
    }
   ],
   "source": [
    "df_fl_byap_mean.loc['SAN'].loc['AA']['DEPARTURE_DELAY']"
   ]
  },
  {
   "cell_type": "code",
   "execution_count": 35,
   "metadata": {
    "collapsed": false
   },
   "outputs": [
    {
     "data": {
      "text/plain": [
       "ORIGIN_AIRPORT  AIRLINE\n",
       "SAN             AA          5.890003\n",
       "                AS         -1.455405\n",
       "                B6         13.685063\n",
       "                DL          2.752950\n",
       "                F9          3.222615\n",
       "                HA          3.756164\n",
       "                NK          7.497998\n",
       "                OO          6.281919\n",
       "                UA         10.266905\n",
       "                US          3.031690\n",
       "                VX         11.368559\n",
       "                WN         10.818552\n",
       "LAX             AA          6.734932\n",
       "                AS          0.632084\n",
       "                B6         12.054558\n",
       "                DL          9.946523\n",
       "                F9         10.178595\n",
       "                HA          2.949284\n",
       "                MQ         22.590643\n",
       "                NK         21.206615\n",
       "                OO          8.887004\n",
       "                UA         12.776143\n",
       "                US          4.545206\n",
       "                VX          9.570629\n",
       "                WN         14.492596\n",
       "Name: DEPARTURE_DELAY, dtype: float64"
      ]
     },
     "execution_count": 35,
     "metadata": {},
     "output_type": "execute_result"
    }
   ],
   "source": [
    "df_fl_byap_mean[['SAN','LAX']]"
   ]
  },
  {
   "cell_type": "code",
   "execution_count": 59,
   "metadata": {
    "collapsed": false
   },
   "outputs": [
    {
     "data": {
      "text/plain": [
       "5.890002784739627"
      ]
     },
     "execution_count": 59,
     "metadata": {},
     "output_type": "execute_result"
    }
   ],
   "source": [
    "df_fl_byap_mean['SAN'].to_dict()['AA']"
   ]
  },
  {
   "cell_type": "code",
   "execution_count": 52,
   "metadata": {
    "collapsed": false
   },
   "outputs": [
    {
     "data": {
      "text/plain": [
       "1305"
      ]
     },
     "execution_count": 52,
     "metadata": {},
     "output_type": "execute_result"
    }
   ],
   "source": [
    "df_fl_byap_mean.index"
   ]
  },
  {
   "cell_type": "code",
   "execution_count": 87,
   "metadata": {
    "collapsed": false
   },
   "outputs": [],
   "source": [
    "# Compare 2 airlines across all airports\n",
    "from collections import defaultdict\n",
    "als = ['AA','US']\n",
    "delay_by_ap = defaultdict(list)\n",
    "delay_by_ap_aps = []\n",
    "for p in all_airports:\n",
    "    if als[0] in df_fl_byap_mean[p].to_dict().keys() and als[1] in df_fl_byap_mean[p].to_dict().keys():\n",
    "        delay_by_ap_aps.append(p)\n",
    "        for a in als:\n",
    "            delay_by_ap[a].append(df_fl_byap_mean[p].to_dict()[a])"
   ]
  },
  {
   "cell_type": "code",
   "execution_count": 91,
   "metadata": {
    "collapsed": false
   },
   "outputs": [
    {
     "name": "stdout",
     "output_type": "stream",
     "text": [
      "(0.10426011185513476, 0.36685650552222993)\n",
      "SAN : AA 5.89000278474 US 3.03169014085\n",
      "LGA : AA 6.40613745879 US 6.9250169262\n",
      "JFK : AA 10.6862231223 US 15.0080763583\n",
      "TUS : AA 4.90842245989 US 23.0\n",
      "ANC : AA 18.504950495 US 1.93865030675\n"
     ]
    },
    {
     "data": {
      "image/png": "[encoded data removed]",
      "text/plain": [
       "<matplotlib.figure.Figure at 0x11919e3c8>"
      ]
     },
     "metadata": {
      "image/png": {
       "height": 482,
       "width": 491
      }
     },
     "output_type": "display_data"
    }
   ],
   "source": [
    "# Make scatter plot\n",
    "N_ap = len(delay_by_ap[als[0]])\n",
    "plt.figure(figsize=(7,7))\n",
    "plt.plot(delay_by_ap[als[0]], delay_by_ap[als[1]], 'k.', ms=10)\n",
    "print(sp.stats.pearsonr(delay_by_ap[als[0]], delay_by_ap[als[1]]))\n",
    "plt.xlabel('Average delay (min)\\nAirline: '+als[0],size=20)\n",
    "plt.ylabel('Average delay (min)\\nAirline: '+als[1],size=20)\n",
    "plt.title('Inconsistency in delay by airline across airports',size=20)\n",
    "plt.xticks(size=20)\n",
    "plt.yticks(size=20)\n",
    "ap = 'SAN'\n",
    "print(ap,':',als[0], df_fl_byap_mean[ap][als[0]], als[1], df_fl_byap_mean[ap][als[1]])\n",
    "ap = 'LGA'\n",
    "print(ap,':',als[0], df_fl_byap_mean[ap][als[0]], als[1], df_fl_byap_mean[ap][als[1]])\n",
    "ap = 'JFK'\n",
    "print(ap,':',als[0], df_fl_byap_mean[ap][als[0]], als[1], df_fl_byap_mean[ap][als[1]])\n",
    "ap = 'TUS'\n",
    "print(ap,':',als[0], df_fl_byap_mean[ap][als[0]], als[1], df_fl_byap_mean[ap][als[1]])\n",
    "ap = 'ANC'\n",
    "print(ap,':',als[0], df_fl_byap_mean[ap][als[0]], als[1], df_fl_byap_mean[ap][als[1]])"
   ]
  }
 ],
 "metadata": {
  "kernelspec": {
   "display_name": "Python 3",
   "language": "python",
   "name": "python3"
  },
  "language_info": {
   "codemirror_mode": {
    "name": "ipython",
    "version": 3
   },
   "file_extension": ".py",
   "mimetype": "text/x-python",
   "name": "python",
   "nbconvert_exporter": "python",
   "pygments_lexer": "ipython3",
   "version": "3.6.0"
  }
 },
 "nbformat": 4,
 "nbformat_minor": 2
}
